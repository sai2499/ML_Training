{
 "cells": [
  {
   "cell_type": "code",
   "execution_count": 17,
   "id": "2dd3ca66",
   "metadata": {},
   "outputs": [
    {
     "name": "stdout",
     "output_type": "stream",
     "text": [
      "Accuracy of training set:  1.0\n",
      "Accuracy of testing set:  0.965034965034965\n"
     ]
    },
    {
     "data": {
      "text/plain": [
       "'As the testing score is 100% the data is most likely to be overfitting'"
      ]
     },
     "execution_count": 17,
     "metadata": {},
     "output_type": "execute_result"
    }
   ],
   "source": [
    "from sklearn.ensemble import GradientBoostingClassifier\n",
    "from sklearn.model_selection import train_test_split\n",
    "from sklearn.datasets import load_breast_cancer\n",
    "\n",
    "cancer = load_breast_cancer()\n",
    "X_train, X_test, y_train, y_test = train_test_split(cancer.data, cancer.target, random_state=0)\n",
    "gbrt = GradientBoostingClassifier(random_state=0)\n",
    "gbrt.fit(X_train, y_train)\n",
    "print(\"Accuracy of training set: \", format(gbrt.score(X_train, y_train)))\n",
    "print(\"Accuracy of testing set: \", format(gbrt.score(X_test, y_test)))\n",
    "\n",
    "'''As the testing score is 100% the data is most likely to be overfitting'''"
   ]
  },
  {
   "cell_type": "code",
   "execution_count": 18,
   "id": "5ed36806",
   "metadata": {},
   "outputs": [
    {
     "name": "stdout",
     "output_type": "stream",
     "text": [
      "Accuracy of training set:  0.9906103286384976\n",
      "Accuracy of testing set:  0.972027972027972\n"
     ]
    },
    {
     "data": {
      "text/plain": [
       "'Lowering the max depth of tree provides a significant improvement of the model'"
      ]
     },
     "execution_count": 18,
     "metadata": {},
     "output_type": "execute_result"
    }
   ],
   "source": [
    "'''Applying pre-puning by adjusting the height'''\n",
    "\n",
    "gbrt1 = GradientBoostingClassifier(random_state=0, max_depth=1)\n",
    "gbrt1.fit(X_train, y_train)\n",
    "print(\"Accuracy of training set: \", format(gbrt1.score(X_train, y_train)))\n",
    "print(\"Accuracy of testing set: \", format(gbrt1.score(X_test, y_test)))\n",
    "\n",
    "'''Lowering the max depth of tree provides a significant improvement of the model'''"
   ]
  },
  {
   "cell_type": "code",
   "execution_count": 19,
   "id": "7bfc2b3e",
   "metadata": {},
   "outputs": [
    {
     "name": "stdout",
     "output_type": "stream",
     "text": [
      "Accuracy of training set:  0.9882629107981221\n",
      "Accuracy of testing set:  0.965034965034965\n"
     ]
    },
    {
     "data": {
      "text/plain": [
       "'Lowering the learning rate only increased the generalized performance slightly'"
      ]
     },
     "execution_count": 19,
     "metadata": {},
     "output_type": "execute_result"
    }
   ],
   "source": [
    "'''Applying learning rate to minimize overfitting'''\n",
    "\n",
    "gbrt2 = GradientBoostingClassifier(random_state=0, learning_rate=0.01)\n",
    "gbrt2.fit(X_train, y_train)\n",
    "print(\"Accuracy of training set: \", format(gbrt2.score(X_train, y_train)))\n",
    "print(\"Accuracy of testing set: \", format(gbrt2.score(X_test, y_test)))\n",
    "\n",
    "'''Lowering the learning rate only increased the generalized performance slightly'''"
   ]
  },
  {
   "cell_type": "code",
   "execution_count": 20,
   "id": "f49de7b9",
   "metadata": {
    "scrolled": true
   },
   "outputs": [
    {
     "ename": "NameError",
     "evalue": "name 'plot_feature_importances_cancer' is not defined",
     "output_type": "error",
     "traceback": [
      "\u001b[1;31m---------------------------------------------------------------------------\u001b[0m",
      "\u001b[1;31mNameError\u001b[0m                                 Traceback (most recent call last)",
      "\u001b[1;32m<ipython-input-20-6e4c33035566>\u001b[0m in \u001b[0;36m<module>\u001b[1;34m\u001b[0m\n\u001b[0;32m      1\u001b[0m \u001b[1;34m'''Both the methods od decreasing model complexity reduced the training set accuracy'''\u001b[0m\u001b[1;33m\u001b[0m\u001b[1;33m\u001b[0m\u001b[0m\n\u001b[1;32m----> 2\u001b[1;33m \u001b[0mplot_feature_importances_cancer\u001b[0m\u001b[1;33m(\u001b[0m\u001b[0mgbrt1\u001b[0m\u001b[1;33m)\u001b[0m\u001b[1;33m\u001b[0m\u001b[1;33m\u001b[0m\u001b[0m\n\u001b[0m",
      "\u001b[1;31mNameError\u001b[0m: name 'plot_feature_importances_cancer' is not defined"
     ]
    }
   ],
   "source": [
    "'''Both the methods od decreasing model complexity reduced the training set accuracy'''\n",
    "plot_feature_importances_cancer(gbrt1)"
   ]
  },
  {
   "cell_type": "code",
   "execution_count": null,
   "id": "6adca459",
   "metadata": {},
   "outputs": [],
   "source": [
    "'''\n",
    "Feature importance of gradient boosted tree and random forest is similar, while some features are completely ignored\n",
    "As random forest and gradient boosting have common approach . It is generally recommended to apply random forest first, \n",
    "if it gives an optimal results then go for it. But if better accuracy is required than go for random forest\n",
    "'''"
   ]
  },
  {
   "cell_type": "code",
   "execution_count": null,
   "id": "44a17366",
   "metadata": {},
   "outputs": [],
   "source": []
  },
  {
   "cell_type": "code",
   "execution_count": null,
   "id": "091bbd11",
   "metadata": {},
   "outputs": [],
   "source": []
  }
 ],
 "metadata": {
  "kernelspec": {
   "display_name": "Python 3",
   "language": "python",
   "name": "python3"
  },
  "language_info": {
   "codemirror_mode": {
    "name": "ipython",
    "version": 3
   },
   "file_extension": ".py",
   "mimetype": "text/x-python",
   "name": "python",
   "nbconvert_exporter": "python",
   "pygments_lexer": "ipython3",
   "version": "3.9.5"
  }
 },
 "nbformat": 4,
 "nbformat_minor": 5
}
