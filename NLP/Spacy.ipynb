{
 "cells": [
  {
   "cell_type": "code",
   "execution_count": 1,
   "id": "c310e72c",
   "metadata": {},
   "outputs": [
    {
     "name": "stdout",
     "output_type": "stream",
     "text": [
      "Collecting spacy\n",
      "  Downloading spacy-3.3.1-cp39-cp39-win_amd64.whl (11.7 MB)\n",
      "Collecting spacy-loggers<2.0.0,>=1.0.0\n",
      "  Downloading spacy_loggers-1.0.2-py3-none-any.whl (7.2 kB)\n",
      "Collecting blis<0.8.0,>=0.4.0\n",
      "  Downloading blis-0.7.7-cp39-cp39-win_amd64.whl (6.6 MB)\n",
      "Collecting spacy-legacy<3.1.0,>=3.0.9\n",
      "  Downloading spacy_legacy-3.0.9-py2.py3-none-any.whl (20 kB)\n",
      "Collecting langcodes<4.0.0,>=3.2.0\n",
      "  Downloading langcodes-3.3.0-py3-none-any.whl (181 kB)\n",
      "Requirement already satisfied: jinja2 in c:\\users\\saina\\appdata\\roaming\\python\\python39\\site-packages (from spacy) (3.0.0)\n",
      "Requirement already satisfied: numpy>=1.15.0 in c:\\users\\saina\\appdata\\roaming\\python\\python39\\site-packages (from spacy) (1.20.3)\n",
      "Collecting cymem<2.1.0,>=2.0.2\n",
      "  Downloading cymem-2.0.6-cp39-cp39-win_amd64.whl (36 kB)\n",
      "Collecting pathy>=0.3.5\n",
      "  Downloading pathy-0.6.1-py3-none-any.whl (42 kB)\n",
      "Collecting catalogue<2.1.0,>=2.0.6\n",
      "  Downloading catalogue-2.0.7-py3-none-any.whl (17 kB)\n",
      "Collecting murmurhash<1.1.0,>=0.28.0\n",
      "  Downloading murmurhash-1.0.7-cp39-cp39-win_amd64.whl (18 kB)\n",
      "Requirement already satisfied: setuptools in c:\\users\\saina\\appdata\\local\\programs\\python\\python39\\lib\\site-packages (from spacy) (56.0.0)\n",
      "Requirement already satisfied: tqdm<5.0.0,>=4.38.0 in c:\\users\\saina\\appdata\\local\\programs\\python\\python39\\lib\\site-packages (from spacy) (4.64.0)\n",
      "Collecting wasabi<1.1.0,>=0.9.1\n",
      "  Downloading wasabi-0.9.1-py3-none-any.whl (26 kB)\n",
      "Collecting preshed<3.1.0,>=3.0.2\n",
      "  Downloading preshed-3.0.6-cp39-cp39-win_amd64.whl (112 kB)\n",
      "Collecting thinc<8.1.0,>=8.0.14\n",
      "  Downloading thinc-8.0.17-cp39-cp39-win_amd64.whl (1.0 MB)\n",
      "Requirement already satisfied: requests<3.0.0,>=2.13.0 in c:\\users\\saina\\appdata\\local\\programs\\python\\python39\\lib\\site-packages (from spacy) (2.26.0)\n",
      "Requirement already satisfied: packaging>=20.0 in c:\\users\\saina\\appdata\\roaming\\python\\python39\\site-packages (from spacy) (20.9)\n",
      "Collecting typer<0.5.0,>=0.3.0\n",
      "  Downloading typer-0.4.1-py3-none-any.whl (27 kB)\n",
      "Collecting srsly<3.0.0,>=2.4.3\n",
      "  Downloading srsly-2.4.3-cp39-cp39-win_amd64.whl (448 kB)\n",
      "Collecting pydantic!=1.8,!=1.8.1,<1.9.0,>=1.7.4\n",
      "  Downloading pydantic-1.8.2-cp39-cp39-win_amd64.whl (1.9 MB)\n",
      "Requirement already satisfied: pyparsing>=2.0.2 in c:\\users\\saina\\appdata\\roaming\\python\\python39\\site-packages (from packaging>=20.0->spacy) (2.4.7)\n",
      "Collecting smart-open<6.0.0,>=5.0.0\n",
      "  Downloading smart_open-5.2.1-py3-none-any.whl (58 kB)\n",
      "Collecting typing-extensions>=3.7.4.3\n",
      "  Downloading typing_extensions-4.2.0-py3-none-any.whl (24 kB)\n",
      "Requirement already satisfied: certifi>=2017.4.17 in c:\\users\\saina\\appdata\\local\\programs\\python\\python39\\lib\\site-packages (from requests<3.0.0,>=2.13.0->spacy) (2021.10.8)\n",
      "Requirement already satisfied: idna<4,>=2.5 in c:\\users\\saina\\appdata\\local\\programs\\python\\python39\\lib\\site-packages (from requests<3.0.0,>=2.13.0->spacy) (3.3)\n",
      "Requirement already satisfied: charset-normalizer~=2.0.0 in c:\\users\\saina\\appdata\\local\\programs\\python\\python39\\lib\\site-packages (from requests<3.0.0,>=2.13.0->spacy) (2.0.7)\n",
      "Requirement already satisfied: urllib3<1.27,>=1.21.1 in c:\\users\\saina\\appdata\\local\\programs\\python\\python39\\lib\\site-packages (from requests<3.0.0,>=2.13.0->spacy) (1.26.7)\n",
      "Requirement already satisfied: colorama in c:\\users\\saina\\appdata\\roaming\\python\\python39\\site-packages (from tqdm<5.0.0,>=4.38.0->spacy) (0.4.4)\n",
      "Requirement already satisfied: click<9.0.0,>=7.1.1 in c:\\users\\saina\\appdata\\local\\programs\\python\\python39\\lib\\site-packages (from typer<0.5.0,>=0.3.0->spacy) (8.1.3)\n",
      "Requirement already satisfied: MarkupSafe>=2.0.0rc2 in c:\\users\\saina\\appdata\\roaming\\python\\python39\\site-packages (from jinja2->spacy) (2.0.0)\n",
      "Installing collected packages: typing-extensions, murmurhash, cymem, catalogue, wasabi, typer, srsly, smart-open, pydantic, preshed, blis, thinc, spacy-loggers, spacy-legacy, pathy, langcodes, spacy\n",
      "Successfully installed blis-0.7.7 catalogue-2.0.7 cymem-2.0.6 langcodes-3.3.0 murmurhash-1.0.7 pathy-0.6.1 preshed-3.0.6 pydantic-1.8.2 smart-open-5.2.1 spacy-3.3.1 spacy-legacy-3.0.9 spacy-loggers-1.0.2 srsly-2.4.3 thinc-8.0.17 typer-0.4.1 typing-extensions-4.2.0 wasabi-0.9.1\n"
     ]
    },
    {
     "name": "stderr",
     "output_type": "stream",
     "text": [
      "WARNING: You are using pip version 21.3.1; however, version 22.1.2 is available.\n",
      "You should consider upgrading via the 'c:\\users\\saina\\appdata\\local\\programs\\python\\python39\\python.exe -m pip install --upgrade pip' command.\n"
     ]
    }
   ],
   "source": [
    "#Downloading Spacy\n",
    "!pip install spacy"
   ]
  },
  {
   "cell_type": "code",
   "execution_count": 3,
   "id": "626fdd6e",
   "metadata": {},
   "outputs": [
    {
     "name": "stdout",
     "output_type": "stream",
     "text": [
      "Collecting en-core-web-sm==3.3.0\n",
      "  Downloading https://github.com/explosion/spacy-models/releases/download/en_core_web_sm-3.3.0/en_core_web_sm-3.3.0-py3-none-any.whl (12.8 MB)\n",
      "Requirement already satisfied: spacy<3.4.0,>=3.3.0.dev0 in c:\\users\\saina\\appdata\\local\\programs\\python\\python39\\lib\\site-packages (from en-core-web-sm==3.3.0) (3.3.1)\n",
      "Requirement already satisfied: packaging>=20.0 in c:\\users\\saina\\appdata\\roaming\\python\\python39\\site-packages (from spacy<3.4.0,>=3.3.0.dev0->en-core-web-sm==3.3.0) (20.9)\n",
      "Requirement already satisfied: langcodes<4.0.0,>=3.2.0 in c:\\users\\saina\\appdata\\local\\programs\\python\\python39\\lib\\site-packages (from spacy<3.4.0,>=3.3.0.dev0->en-core-web-sm==3.3.0) (3.3.0)\n",
      "Requirement already satisfied: spacy-legacy<3.1.0,>=3.0.9 in c:\\users\\saina\\appdata\\local\\programs\\python\\python39\\lib\\site-packages (from spacy<3.4.0,>=3.3.0.dev0->en-core-web-sm==3.3.0) (3.0.9)\n",
      "Requirement already satisfied: murmurhash<1.1.0,>=0.28.0 in c:\\users\\saina\\appdata\\local\\programs\\python\\python39\\lib\\site-packages (from spacy<3.4.0,>=3.3.0.dev0->en-core-web-sm==3.3.0) (1.0.7)\n",
      "Requirement already satisfied: jinja2 in c:\\users\\saina\\appdata\\roaming\\python\\python39\\site-packages (from spacy<3.4.0,>=3.3.0.dev0->en-core-web-sm==3.3.0) (3.0.0)\n",
      "Requirement already satisfied: typer<0.5.0,>=0.3.0 in c:\\users\\saina\\appdata\\local\\programs\\python\\python39\\lib\\site-packages (from spacy<3.4.0,>=3.3.0.dev0->en-core-web-sm==3.3.0) (0.4.1)\n",
      "Requirement already satisfied: setuptools in c:\\users\\saina\\appdata\\local\\programs\\python\\python39\\lib\\site-packages (from spacy<3.4.0,>=3.3.0.dev0->en-core-web-sm==3.3.0) (56.0.0)\n",
      "Requirement already satisfied: pathy>=0.3.5 in c:\\users\\saina\\appdata\\local\\programs\\python\\python39\\lib\\site-packages (from spacy<3.4.0,>=3.3.0.dev0->en-core-web-sm==3.3.0) (0.6.1)\n",
      "Requirement already satisfied: srsly<3.0.0,>=2.4.3 in c:\\users\\saina\\appdata\\local\\programs\\python\\python39\\lib\\site-packages (from spacy<3.4.0,>=3.3.0.dev0->en-core-web-sm==3.3.0) (2.4.3)\n",
      "Requirement already satisfied: numpy>=1.15.0 in c:\\users\\saina\\appdata\\roaming\\python\\python39\\site-packages (from spacy<3.4.0,>=3.3.0.dev0->en-core-web-sm==3.3.0) (1.20.3)\n",
      "Requirement already satisfied: blis<0.8.0,>=0.4.0 in c:\\users\\saina\\appdata\\local\\programs\\python\\python39\\lib\\site-packages (from spacy<3.4.0,>=3.3.0.dev0->en-core-web-sm==3.3.0) (0.7.7)\n",
      "Requirement already satisfied: requests<3.0.0,>=2.13.0 in c:\\users\\saina\\appdata\\local\\programs\\python\\python39\\lib\\site-packages (from spacy<3.4.0,>=3.3.0.dev0->en-core-web-sm==3.3.0) (2.26.0)\n",
      "Requirement already satisfied: thinc<8.1.0,>=8.0.14 in c:\\users\\saina\\appdata\\local\\programs\\python\\python39\\lib\\site-packages (from spacy<3.4.0,>=3.3.0.dev0->en-core-web-sm==3.3.0) (8.0.17)\n",
      "Requirement already satisfied: wasabi<1.1.0,>=0.9.1 in c:\\users\\saina\\appdata\\local\\programs\\python\\python39\\lib\\site-packages (from spacy<3.4.0,>=3.3.0.dev0->en-core-web-sm==3.3.0) (0.9.1)\n",
      "Requirement already satisfied: pydantic!=1.8,!=1.8.1,<1.9.0,>=1.7.4 in c:\\users\\saina\\appdata\\local\\programs\\python\\python39\\lib\\site-packages (from spacy<3.4.0,>=3.3.0.dev0->en-core-web-sm==3.3.0) (1.8.2)\n",
      "Requirement already satisfied: tqdm<5.0.0,>=4.38.0 in c:\\users\\saina\\appdata\\local\\programs\\python\\python39\\lib\\site-packages (from spacy<3.4.0,>=3.3.0.dev0->en-core-web-sm==3.3.0) (4.64.0)\n",
      "Requirement already satisfied: catalogue<2.1.0,>=2.0.6 in c:\\users\\saina\\appdata\\local\\programs\\python\\python39\\lib\\site-packages (from spacy<3.4.0,>=3.3.0.dev0->en-core-web-sm==3.3.0) (2.0.7)\n",
      "Requirement already satisfied: spacy-loggers<2.0.0,>=1.0.0 in c:\\users\\saina\\appdata\\local\\programs\\python\\python39\\lib\\site-packages (from spacy<3.4.0,>=3.3.0.dev0->en-core-web-sm==3.3.0) (1.0.2)\n",
      "Requirement already satisfied: preshed<3.1.0,>=3.0.2 in c:\\users\\saina\\appdata\\local\\programs\\python\\python39\\lib\\site-packages (from spacy<3.4.0,>=3.3.0.dev0->en-core-web-sm==3.3.0) (3.0.6)\n",
      "Requirement already satisfied: cymem<2.1.0,>=2.0.2 in c:\\users\\saina\\appdata\\local\\programs\\python\\python39\\lib\\site-packages (from spacy<3.4.0,>=3.3.0.dev0->en-core-web-sm==3.3.0) (2.0.6)\n",
      "Requirement already satisfied: pyparsing>=2.0.2 in c:\\users\\saina\\appdata\\roaming\\python\\python39\\site-packages (from packaging>=20.0->spacy<3.4.0,>=3.3.0.dev0->en-core-web-sm==3.3.0) (2.4.7)\n",
      "Requirement already satisfied: smart-open<6.0.0,>=5.0.0 in c:\\users\\saina\\appdata\\local\\programs\\python\\python39\\lib\\site-packages (from pathy>=0.3.5->spacy<3.4.0,>=3.3.0.dev0->en-core-web-sm==3.3.0) (5.2.1)\n",
      "Requirement already satisfied: typing-extensions>=3.7.4.3 in c:\\users\\saina\\appdata\\local\\programs\\python\\python39\\lib\\site-packages (from pydantic!=1.8,!=1.8.1,<1.9.0,>=1.7.4->spacy<3.4.0,>=3.3.0.dev0->en-core-web-sm==3.3.0) (4.2.0)\n",
      "Requirement already satisfied: idna<4,>=2.5 in c:\\users\\saina\\appdata\\local\\programs\\python\\python39\\lib\\site-packages (from requests<3.0.0,>=2.13.0->spacy<3.4.0,>=3.3.0.dev0->en-core-web-sm==3.3.0) (3.3)\n",
      "Requirement already satisfied: charset-normalizer~=2.0.0 in c:\\users\\saina\\appdata\\local\\programs\\python\\python39\\lib\\site-packages (from requests<3.0.0,>=2.13.0->spacy<3.4.0,>=3.3.0.dev0->en-core-web-sm==3.3.0) (2.0.7)\n",
      "Requirement already satisfied: certifi>=2017.4.17 in c:\\users\\saina\\appdata\\local\\programs\\python\\python39\\lib\\site-packages (from requests<3.0.0,>=2.13.0->spacy<3.4.0,>=3.3.0.dev0->en-core-web-sm==3.3.0) (2021.10.8)\n",
      "Requirement already satisfied: urllib3<1.27,>=1.21.1 in c:\\users\\saina\\appdata\\local\\programs\\python\\python39\\lib\\site-packages (from requests<3.0.0,>=2.13.0->spacy<3.4.0,>=3.3.0.dev0->en-core-web-sm==3.3.0) (1.26.7)\n",
      "Requirement already satisfied: colorama in c:\\users\\saina\\appdata\\roaming\\python\\python39\\site-packages (from tqdm<5.0.0,>=4.38.0->spacy<3.4.0,>=3.3.0.dev0->en-core-web-sm==3.3.0) (0.4.4)\n",
      "Requirement already satisfied: click<9.0.0,>=7.1.1 in c:\\users\\saina\\appdata\\local\\programs\\python\\python39\\lib\\site-packages (from typer<0.5.0,>=0.3.0->spacy<3.4.0,>=3.3.0.dev0->en-core-web-sm==3.3.0) (8.1.3)\n",
      "Requirement already satisfied: MarkupSafe>=2.0.0rc2 in c:\\users\\saina\\appdata\\roaming\\python\\python39\\site-packages (from jinja2->spacy<3.4.0,>=3.3.0.dev0->en-core-web-sm==3.3.0) (2.0.0)\n",
      "Installing collected packages: en-core-web-sm\n",
      "Successfully installed en-core-web-sm-3.3.0\n",
      "[+] Download and installation successful\n",
      "You can now load the package via spacy.load('en_core_web_sm')\n"
     ]
    },
    {
     "name": "stderr",
     "output_type": "stream",
     "text": [
      "WARNING: You are using pip version 21.3.1; however, version 22.1.2 is available.\n",
      "You should consider upgrading via the 'C:\\Users\\Saina\\AppData\\Local\\Programs\\Python\\Python39\\python.exe -m pip install --upgrade pip' command.\n"
     ]
    }
   ],
   "source": [
    "#Download the model as spacy is completely dependent on the models it doesnot reply on any database like textblob\n",
    "!python -m spacy download en_core_web_sm"
   ]
  },
  {
   "cell_type": "code",
   "execution_count": 4,
   "id": "7956f935",
   "metadata": {},
   "outputs": [],
   "source": [
    "import spacy\n",
    "nlp = spacy.load('en_core_web_sm')"
   ]
  },
  {
   "cell_type": "code",
   "execution_count": 10,
   "id": "13f112f8",
   "metadata": {},
   "outputs": [
    {
     "name": "stdout",
     "output_type": "stream",
     "text": [
      "<class 'spacy.tokens.doc.Doc'>\n"
     ]
    }
   ],
   "source": [
    "sent = \"India, officially the Republic of India? Is a country in South Asia, June, 11th May\"\n",
    "doc = nlp(sent)\n",
    "print(type(doc)) #Everything is saved in proper documentation"
   ]
  },
  {
   "cell_type": "code",
   "execution_count": 12,
   "id": "ac8b4106",
   "metadata": {},
   "outputs": [
    {
     "name": "stdout",
     "output_type": "stream",
     "text": [
      "[India, officially the Republic of India?, Is a country in South Asia, June, 11th May]\n",
      "2\n"
     ]
    }
   ],
   "source": [
    "#sentence Tokenization\n",
    "sentence = nlp(sent)\n",
    "print(list(sentence.sents))\n",
    "print(len(list(sentence.sents)))"
   ]
  },
  {
   "cell_type": "code",
   "execution_count": 14,
   "id": "56252b31",
   "metadata": {},
   "outputs": [
    {
     "name": "stdout",
     "output_type": "stream",
     "text": [
      "India\n",
      ",\n",
      "officially\n",
      "the\n",
      "Republic\n",
      "of\n",
      "India\n",
      "?\n",
      "Is\n",
      "a\n",
      "country\n",
      "in\n",
      "South\n",
      "Asia\n",
      ",\n",
      "June\n",
      ",\n",
      "11th\n",
      "May\n"
     ]
    }
   ],
   "source": [
    "#Word tokenization\n",
    "sentence = nlp(sent)\n",
    "for token in sentence:\n",
    "    print(token)\n"
   ]
  },
  {
   "cell_type": "code",
   "execution_count": 16,
   "id": "40d9eff5",
   "metadata": {},
   "outputs": [
    {
     "name": "stdout",
     "output_type": "stream",
     "text": [
      "The length of the stopwords is: 326\n",
      "{'again', 're', 'although', 'them', 'take', '‘ll', 'whereafter', 'for', 'whether', 'move', 'has', 'side', 'are', 'than', 'hence', 'ever', 'while', 'nothing', 'anyhow', 'seem', 'or', 'own', 'those', 'yourselves', 'i', 'make', 'it', 'everywhere', 'at', \"'m\", 'must', 'whole', 'elsewhere', 'seeming', 'could', 'wherein', 'with', 'very', 'why', 'someone', 'put', 'often', 'whom', 'nobody', 'each', 'rather', 'whatever', 'whence', 'done', 'namely', 'via', 'sometime', \"'ve\", 'in', 'next', 'besides', \"'d\", 'a', \"'re\", 'towards', 'anyone', 'what', 'hers', 'another', 'top', 'whose', 'against', 'become', 'beside', 'such', 'n‘t', 'and', 'our', 'which', 'had', 'him', 'every', 'was', 'eleven', 'well', '‘m', 'thereby', 'becomes', 'front', 'until', 'afterwards', 'even', 'beforehand', 'amount', '’ve', 'doing', 'throughout', 'together', 'through', 'becoming', 'mine', 'other', 'only', 'seemed', 'would', 'three', 'moreover', 'us', 'same', 'anything', 'into', 'all', 'themselves', 'yourself', 'ten', 'also', 'does', 'eight', 'behind', 'because', 'always', '’m', 'quite', 'last', 'show', 'cannot', '’d', 'n’t', 'upon', 'however', 'somehow', 'is', 'beyond', 'enough', 'various', 'mostly', 'an', 'may', 'herself', 'did', 'fifteen', 'too', 'wherever', 'over', 'can', '‘s', 'your', 'two', 'thru', 'now', 'we', 'few', 'one', 'she', 'yours', 'latterly', 'thereafter', 'twenty', 'less', 'therein', 'really', 'ourselves', 'seems', 'when', 'not', 'this', 'neither', 'am', 'full', 'do', 'who', 'see', 'give', 'meanwhile', 'least', 'noone', 'himself', 'unless', 'five', 'something', 'there', 'itself', 'formerly', 'so', 'using', 'no', 'please', 'though', 'everything', 'twelve', 'whither', 'already', 'per', 'their', 'just', 'further', 'still', 'third', 'me', 'except', 'herein', 'these', 'might', \"'s\", 'across', '‘ve', '‘d', 'onto', '’s', 'many', 'fifty', 'he', 'yet', 'hereupon', 'serious', 'somewhere', 'back', 'former', 'her', 'my', 'the', 'nor', 'by', 'hereafter', 'four', 'down', 'how', '‘re', 'made', 'then', '’ll', 'during', 'due', 'have', 'most', 'been', 'nevertheless', 'being', 'among', \"'ll\", 'empty', 'along', 'after', 'thereupon', 'above', 'anywhere', 'as', 'otherwise', 'sometimes', 'say', 'whenever', 'hereby', 'if', 'under', 'where', 'thus', 'used', 'that', 'from', 'thence', 'became', 'call', 'name', 'go', 'hundred', 'more', 'never', 'up', 'myself', 'alone', 'keep', 'six', 'be', 'none', 'nowhere', 'out', 'either', 'to', 'ours', 'else', 'part', 'sixty', 'off', '’re', 'latter', 'others', 'on', 'were', \"n't\", 'ca', 'some', 'here', 'since', 'first', 'amongst', 'its', 'perhaps', 'of', 'regarding', 'any', 'before', 'you', 'nine', 'within', 'once', 'whereas', 'below', 'between', 'much', 'should', 'almost', 'both', 'indeed', 'several', 'about', 'whereupon', 'get', 'therefore', 'whereby', 'bottom', 'they', 'without', 'forty', 'around', 'toward', 'but', 'his', 'whoever', 'anyway', 'everyone', 'will'}\n"
     ]
    }
   ],
   "source": [
    "#Stopwords: Spacy has it own stopwords for every language\n",
    "stopwords = spacy.lang.en.stop_words.STOP_WORDS\n",
    "print(\"The length of the stopwords is:\", len(stopwords))\n",
    "print(stopwords)"
   ]
  },
  {
   "cell_type": "code",
   "execution_count": 31,
   "id": "ffb8874c",
   "metadata": {},
   "outputs": [
    {
     "name": "stdout",
     "output_type": "stream",
     "text": [
      "[India, ,, officially, Republic, India, ?, Is, country, South, Asia, ,, June, ,, 11th, May]\n"
     ]
    }
   ],
   "source": [
    "#Returing a clean sentence by removing all the stop words:\n",
    "stopwords = spacy.lang.en.stop_words.STOP_WORDS\n",
    "sent = \"India, officially the Republic of India? Is a country in South Asia, June, 11th May\"\n",
    "sentence = nlp(sent)\n",
    "clean = []\n",
    "for token in sentence:\n",
    "    if token.text not in stopwords:\n",
    "        clean.append(token)\n",
    "print(clean)"
   ]
  },
  {
   "cell_type": "code",
   "execution_count": 33,
   "id": "25f983f8",
   "metadata": {},
   "outputs": [
    {
     "name": "stdout",
     "output_type": "stream",
     "text": [
      "[India, ,, officially, Republic, India, ?, country, South, Asia, ,, June, ,, 11th]\n"
     ]
    }
   ],
   "source": [
    "#A direct method to remove all the stop words\n",
    "doc = nlp(sent)\n",
    "clean_data = []\n",
    "for token in doc:\n",
    "    if not token.is_stop: #is_stop is a function for token type that will look for the stopwords and remove them\n",
    "        clean_data.append(token)\n",
    "print(clean_data)"
   ]
  },
  {
   "cell_type": "code",
   "execution_count": 35,
   "id": "640c8d88",
   "metadata": {},
   "outputs": [
    {
     "data": {
      "text/plain": [
       "[India, officially, Republic, India, country, South, Asia, June, 11th]"
      ]
     },
     "execution_count": 35,
     "metadata": {},
     "output_type": "execute_result"
    }
   ],
   "source": [
    "#Method to remove punctuation and stopwords from the data\n",
    "doc = nlp(sent)\n",
    "clean_data = []\n",
    "for token in doc:\n",
    "    if not token.is_punct and not token.is_stop:\n",
    "        clean_data.append(token)\n",
    "clean_data"
   ]
  },
  {
   "cell_type": "code",
   "execution_count": 37,
   "id": "3b7dfffa",
   "metadata": {},
   "outputs": [
    {
     "name": "stdout",
     "output_type": "stream",
     "text": [
      "histories -------> history\n"
     ]
    }
   ],
   "source": [
    "#Lemmatization\n",
    "sent = 'histories'\n",
    "doc = nlp(sent)\n",
    "for token in doc:\n",
    "    print(token,'------->', token.lemma_)"
   ]
  },
  {
   "cell_type": "code",
   "execution_count": null,
   "id": "aaecad99",
   "metadata": {},
   "outputs": [],
   "source": [
    "'''\n",
    "Common methods from Spacy\n",
    "is_ascii\n",
    "is_digit\n",
    "is_lower\n",
    "is_uppercase\n",
    "is_alpha\n",
    "is_punct\n",
    "is_stop\n",
    "like_email\n",
    "like_url\n",
    "'''"
   ]
  },
  {
   "cell_type": "code",
   "execution_count": 39,
   "id": "b7e305a1",
   "metadata": {},
   "outputs": [
    {
     "name": "stdout",
     "output_type": "stream",
     "text": [
      "India ---> NNP ----> noun, proper singular\n",
      ", ---> , ----> punctuation mark, comma\n",
      "officially ---> RB ----> adverb\n",
      "the ---> DT ----> determiner\n",
      "Republic ---> NNP ----> noun, proper singular\n",
      "of ---> IN ----> conjunction, subordinating or preposition\n",
      "India ---> NNP ----> noun, proper singular\n",
      "? ---> . ----> punctuation mark, sentence closer\n",
      "Is ---> VBZ ----> verb, 3rd person singular present\n",
      "a ---> DT ----> determiner\n",
      "country ---> NN ----> noun, singular or mass\n",
      "in ---> IN ----> conjunction, subordinating or preposition\n",
      "South ---> NNP ----> noun, proper singular\n",
      "Asia ---> NNP ----> noun, proper singular\n",
      ", ---> , ----> punctuation mark, comma\n",
      "June ---> NNP ----> noun, proper singular\n",
      ", ---> , ----> punctuation mark, comma\n",
      "11th ---> JJ ----> adjective (English), other noun-modifier (Chinese)\n",
      "May ---> NNP ----> noun, proper singular\n"
     ]
    }
   ],
   "source": [
    "#Part of speech\n",
    "new_sent = \"India, officially the Republic of India? Is a country in South Asia, June, 11th May\"\n",
    "new_doc = nlp(new_sent)\n",
    "for token in new_doc:\n",
    "    print(token,\"--->\", token.tag_,\"---->\",spacy.explain(token.tag_))"
   ]
  },
  {
   "cell_type": "code",
   "execution_count": 42,
   "id": "cf63ccec",
   "metadata": {},
   "outputs": [
    {
     "data": {
      "text/html": [
       "<span class=\"tex2jax_ignore\"><svg xmlns=\"http://www.w3.org/2000/svg\" xmlns:xlink=\"http://www.w3.org/1999/xlink\" xml:lang=\"en\" id=\"678edcbb29b8435daa4ef70f83d7bc45-0\" class=\"displacy\" width=\"2675\" height=\"399.5\" direction=\"ltr\" style=\"max-width: none; height: 399.5px; color: #000000; background: #ffffff; font-family: Arial; direction: ltr\">\n",
       "<text class=\"displacy-token\" fill=\"currentColor\" text-anchor=\"middle\" y=\"309.5\">\n",
       "    <tspan class=\"displacy-word\" fill=\"currentColor\" x=\"50\">India,</tspan>\n",
       "    <tspan class=\"displacy-tag\" dy=\"2em\" fill=\"currentColor\" x=\"50\">PROPN</tspan>\n",
       "</text>\n",
       "\n",
       "<text class=\"displacy-token\" fill=\"currentColor\" text-anchor=\"middle\" y=\"309.5\">\n",
       "    <tspan class=\"displacy-word\" fill=\"currentColor\" x=\"225\">officially</tspan>\n",
       "    <tspan class=\"displacy-tag\" dy=\"2em\" fill=\"currentColor\" x=\"225\">ADV</tspan>\n",
       "</text>\n",
       "\n",
       "<text class=\"displacy-token\" fill=\"currentColor\" text-anchor=\"middle\" y=\"309.5\">\n",
       "    <tspan class=\"displacy-word\" fill=\"currentColor\" x=\"400\">the</tspan>\n",
       "    <tspan class=\"displacy-tag\" dy=\"2em\" fill=\"currentColor\" x=\"400\">DET</tspan>\n",
       "</text>\n",
       "\n",
       "<text class=\"displacy-token\" fill=\"currentColor\" text-anchor=\"middle\" y=\"309.5\">\n",
       "    <tspan class=\"displacy-word\" fill=\"currentColor\" x=\"575\">Republic</tspan>\n",
       "    <tspan class=\"displacy-tag\" dy=\"2em\" fill=\"currentColor\" x=\"575\">PROPN</tspan>\n",
       "</text>\n",
       "\n",
       "<text class=\"displacy-token\" fill=\"currentColor\" text-anchor=\"middle\" y=\"309.5\">\n",
       "    <tspan class=\"displacy-word\" fill=\"currentColor\" x=\"750\">of</tspan>\n",
       "    <tspan class=\"displacy-tag\" dy=\"2em\" fill=\"currentColor\" x=\"750\">ADP</tspan>\n",
       "</text>\n",
       "\n",
       "<text class=\"displacy-token\" fill=\"currentColor\" text-anchor=\"middle\" y=\"309.5\">\n",
       "    <tspan class=\"displacy-word\" fill=\"currentColor\" x=\"925\">India?</tspan>\n",
       "    <tspan class=\"displacy-tag\" dy=\"2em\" fill=\"currentColor\" x=\"925\">PROPN</tspan>\n",
       "</text>\n",
       "\n",
       "<text class=\"displacy-token\" fill=\"currentColor\" text-anchor=\"middle\" y=\"309.5\">\n",
       "    <tspan class=\"displacy-word\" fill=\"currentColor\" x=\"1100\">Is</tspan>\n",
       "    <tspan class=\"displacy-tag\" dy=\"2em\" fill=\"currentColor\" x=\"1100\">AUX</tspan>\n",
       "</text>\n",
       "\n",
       "<text class=\"displacy-token\" fill=\"currentColor\" text-anchor=\"middle\" y=\"309.5\">\n",
       "    <tspan class=\"displacy-word\" fill=\"currentColor\" x=\"1275\">a</tspan>\n",
       "    <tspan class=\"displacy-tag\" dy=\"2em\" fill=\"currentColor\" x=\"1275\">DET</tspan>\n",
       "</text>\n",
       "\n",
       "<text class=\"displacy-token\" fill=\"currentColor\" text-anchor=\"middle\" y=\"309.5\">\n",
       "    <tspan class=\"displacy-word\" fill=\"currentColor\" x=\"1450\">country</tspan>\n",
       "    <tspan class=\"displacy-tag\" dy=\"2em\" fill=\"currentColor\" x=\"1450\">NOUN</tspan>\n",
       "</text>\n",
       "\n",
       "<text class=\"displacy-token\" fill=\"currentColor\" text-anchor=\"middle\" y=\"309.5\">\n",
       "    <tspan class=\"displacy-word\" fill=\"currentColor\" x=\"1625\">in</tspan>\n",
       "    <tspan class=\"displacy-tag\" dy=\"2em\" fill=\"currentColor\" x=\"1625\">ADP</tspan>\n",
       "</text>\n",
       "\n",
       "<text class=\"displacy-token\" fill=\"currentColor\" text-anchor=\"middle\" y=\"309.5\">\n",
       "    <tspan class=\"displacy-word\" fill=\"currentColor\" x=\"1800\">South</tspan>\n",
       "    <tspan class=\"displacy-tag\" dy=\"2em\" fill=\"currentColor\" x=\"1800\">PROPN</tspan>\n",
       "</text>\n",
       "\n",
       "<text class=\"displacy-token\" fill=\"currentColor\" text-anchor=\"middle\" y=\"309.5\">\n",
       "    <tspan class=\"displacy-word\" fill=\"currentColor\" x=\"1975\">Asia,</tspan>\n",
       "    <tspan class=\"displacy-tag\" dy=\"2em\" fill=\"currentColor\" x=\"1975\">PROPN</tspan>\n",
       "</text>\n",
       "\n",
       "<text class=\"displacy-token\" fill=\"currentColor\" text-anchor=\"middle\" y=\"309.5\">\n",
       "    <tspan class=\"displacy-word\" fill=\"currentColor\" x=\"2150\">June,</tspan>\n",
       "    <tspan class=\"displacy-tag\" dy=\"2em\" fill=\"currentColor\" x=\"2150\">PROPN</tspan>\n",
       "</text>\n",
       "\n",
       "<text class=\"displacy-token\" fill=\"currentColor\" text-anchor=\"middle\" y=\"309.5\">\n",
       "    <tspan class=\"displacy-word\" fill=\"currentColor\" x=\"2325\">11th</tspan>\n",
       "    <tspan class=\"displacy-tag\" dy=\"2em\" fill=\"currentColor\" x=\"2325\">ADJ</tspan>\n",
       "</text>\n",
       "\n",
       "<text class=\"displacy-token\" fill=\"currentColor\" text-anchor=\"middle\" y=\"309.5\">\n",
       "    <tspan class=\"displacy-word\" fill=\"currentColor\" x=\"2500\">May</tspan>\n",
       "    <tspan class=\"displacy-tag\" dy=\"2em\" fill=\"currentColor\" x=\"2500\">PROPN</tspan>\n",
       "</text>\n",
       "\n",
       "<g class=\"displacy-arrow\">\n",
       "    <path class=\"displacy-arc\" id=\"arrow-678edcbb29b8435daa4ef70f83d7bc45-0-0\" stroke-width=\"2px\" d=\"M245,264.5 C245,89.5 570.0,89.5 570.0,264.5\" fill=\"none\" stroke=\"currentColor\"/>\n",
       "    <text dy=\"1.25em\" style=\"font-size: 0.8em; letter-spacing: 1px\">\n",
       "        <textPath xlink:href=\"#arrow-678edcbb29b8435daa4ef70f83d7bc45-0-0\" class=\"displacy-label\" startOffset=\"50%\" side=\"left\" fill=\"currentColor\" text-anchor=\"middle\">advmod</textPath>\n",
       "    </text>\n",
       "    <path class=\"displacy-arrowhead\" d=\"M245,266.5 L237,254.5 253,254.5\" fill=\"currentColor\"/>\n",
       "</g>\n",
       "\n",
       "<g class=\"displacy-arrow\">\n",
       "    <path class=\"displacy-arc\" id=\"arrow-678edcbb29b8435daa4ef70f83d7bc45-0-1\" stroke-width=\"2px\" d=\"M420,264.5 C420,177.0 565.0,177.0 565.0,264.5\" fill=\"none\" stroke=\"currentColor\"/>\n",
       "    <text dy=\"1.25em\" style=\"font-size: 0.8em; letter-spacing: 1px\">\n",
       "        <textPath xlink:href=\"#arrow-678edcbb29b8435daa4ef70f83d7bc45-0-1\" class=\"displacy-label\" startOffset=\"50%\" side=\"left\" fill=\"currentColor\" text-anchor=\"middle\">det</textPath>\n",
       "    </text>\n",
       "    <path class=\"displacy-arrowhead\" d=\"M420,266.5 L412,254.5 428,254.5\" fill=\"currentColor\"/>\n",
       "</g>\n",
       "\n",
       "<g class=\"displacy-arrow\">\n",
       "    <path class=\"displacy-arc\" id=\"arrow-678edcbb29b8435daa4ef70f83d7bc45-0-2\" stroke-width=\"2px\" d=\"M70,264.5 C70,2.0 575.0,2.0 575.0,264.5\" fill=\"none\" stroke=\"currentColor\"/>\n",
       "    <text dy=\"1.25em\" style=\"font-size: 0.8em; letter-spacing: 1px\">\n",
       "        <textPath xlink:href=\"#arrow-678edcbb29b8435daa4ef70f83d7bc45-0-2\" class=\"displacy-label\" startOffset=\"50%\" side=\"left\" fill=\"currentColor\" text-anchor=\"middle\">appos</textPath>\n",
       "    </text>\n",
       "    <path class=\"displacy-arrowhead\" d=\"M575.0,266.5 L583.0,254.5 567.0,254.5\" fill=\"currentColor\"/>\n",
       "</g>\n",
       "\n",
       "<g class=\"displacy-arrow\">\n",
       "    <path class=\"displacy-arc\" id=\"arrow-678edcbb29b8435daa4ef70f83d7bc45-0-3\" stroke-width=\"2px\" d=\"M595,264.5 C595,177.0 740.0,177.0 740.0,264.5\" fill=\"none\" stroke=\"currentColor\"/>\n",
       "    <text dy=\"1.25em\" style=\"font-size: 0.8em; letter-spacing: 1px\">\n",
       "        <textPath xlink:href=\"#arrow-678edcbb29b8435daa4ef70f83d7bc45-0-3\" class=\"displacy-label\" startOffset=\"50%\" side=\"left\" fill=\"currentColor\" text-anchor=\"middle\">prep</textPath>\n",
       "    </text>\n",
       "    <path class=\"displacy-arrowhead\" d=\"M740.0,266.5 L748.0,254.5 732.0,254.5\" fill=\"currentColor\"/>\n",
       "</g>\n",
       "\n",
       "<g class=\"displacy-arrow\">\n",
       "    <path class=\"displacy-arc\" id=\"arrow-678edcbb29b8435daa4ef70f83d7bc45-0-4\" stroke-width=\"2px\" d=\"M770,264.5 C770,177.0 915.0,177.0 915.0,264.5\" fill=\"none\" stroke=\"currentColor\"/>\n",
       "    <text dy=\"1.25em\" style=\"font-size: 0.8em; letter-spacing: 1px\">\n",
       "        <textPath xlink:href=\"#arrow-678edcbb29b8435daa4ef70f83d7bc45-0-4\" class=\"displacy-label\" startOffset=\"50%\" side=\"left\" fill=\"currentColor\" text-anchor=\"middle\">pobj</textPath>\n",
       "    </text>\n",
       "    <path class=\"displacy-arrowhead\" d=\"M915.0,266.5 L923.0,254.5 907.0,254.5\" fill=\"currentColor\"/>\n",
       "</g>\n",
       "\n",
       "<g class=\"displacy-arrow\">\n",
       "    <path class=\"displacy-arc\" id=\"arrow-678edcbb29b8435daa4ef70f83d7bc45-0-5\" stroke-width=\"2px\" d=\"M1295,264.5 C1295,177.0 1440.0,177.0 1440.0,264.5\" fill=\"none\" stroke=\"currentColor\"/>\n",
       "    <text dy=\"1.25em\" style=\"font-size: 0.8em; letter-spacing: 1px\">\n",
       "        <textPath xlink:href=\"#arrow-678edcbb29b8435daa4ef70f83d7bc45-0-5\" class=\"displacy-label\" startOffset=\"50%\" side=\"left\" fill=\"currentColor\" text-anchor=\"middle\">det</textPath>\n",
       "    </text>\n",
       "    <path class=\"displacy-arrowhead\" d=\"M1295,266.5 L1287,254.5 1303,254.5\" fill=\"currentColor\"/>\n",
       "</g>\n",
       "\n",
       "<g class=\"displacy-arrow\">\n",
       "    <path class=\"displacy-arc\" id=\"arrow-678edcbb29b8435daa4ef70f83d7bc45-0-6\" stroke-width=\"2px\" d=\"M1120,264.5 C1120,89.5 1445.0,89.5 1445.0,264.5\" fill=\"none\" stroke=\"currentColor\"/>\n",
       "    <text dy=\"1.25em\" style=\"font-size: 0.8em; letter-spacing: 1px\">\n",
       "        <textPath xlink:href=\"#arrow-678edcbb29b8435daa4ef70f83d7bc45-0-6\" class=\"displacy-label\" startOffset=\"50%\" side=\"left\" fill=\"currentColor\" text-anchor=\"middle\">nsubj</textPath>\n",
       "    </text>\n",
       "    <path class=\"displacy-arrowhead\" d=\"M1445.0,266.5 L1453.0,254.5 1437.0,254.5\" fill=\"currentColor\"/>\n",
       "</g>\n",
       "\n",
       "<g class=\"displacy-arrow\">\n",
       "    <path class=\"displacy-arc\" id=\"arrow-678edcbb29b8435daa4ef70f83d7bc45-0-7\" stroke-width=\"2px\" d=\"M1470,264.5 C1470,177.0 1615.0,177.0 1615.0,264.5\" fill=\"none\" stroke=\"currentColor\"/>\n",
       "    <text dy=\"1.25em\" style=\"font-size: 0.8em; letter-spacing: 1px\">\n",
       "        <textPath xlink:href=\"#arrow-678edcbb29b8435daa4ef70f83d7bc45-0-7\" class=\"displacy-label\" startOffset=\"50%\" side=\"left\" fill=\"currentColor\" text-anchor=\"middle\">prep</textPath>\n",
       "    </text>\n",
       "    <path class=\"displacy-arrowhead\" d=\"M1615.0,266.5 L1623.0,254.5 1607.0,254.5\" fill=\"currentColor\"/>\n",
       "</g>\n",
       "\n",
       "<g class=\"displacy-arrow\">\n",
       "    <path class=\"displacy-arc\" id=\"arrow-678edcbb29b8435daa4ef70f83d7bc45-0-8\" stroke-width=\"2px\" d=\"M1820,264.5 C1820,177.0 1965.0,177.0 1965.0,264.5\" fill=\"none\" stroke=\"currentColor\"/>\n",
       "    <text dy=\"1.25em\" style=\"font-size: 0.8em; letter-spacing: 1px\">\n",
       "        <textPath xlink:href=\"#arrow-678edcbb29b8435daa4ef70f83d7bc45-0-8\" class=\"displacy-label\" startOffset=\"50%\" side=\"left\" fill=\"currentColor\" text-anchor=\"middle\">compound</textPath>\n",
       "    </text>\n",
       "    <path class=\"displacy-arrowhead\" d=\"M1820,266.5 L1812,254.5 1828,254.5\" fill=\"currentColor\"/>\n",
       "</g>\n",
       "\n",
       "<g class=\"displacy-arrow\">\n",
       "    <path class=\"displacy-arc\" id=\"arrow-678edcbb29b8435daa4ef70f83d7bc45-0-9\" stroke-width=\"2px\" d=\"M1645,264.5 C1645,89.5 1970.0,89.5 1970.0,264.5\" fill=\"none\" stroke=\"currentColor\"/>\n",
       "    <text dy=\"1.25em\" style=\"font-size: 0.8em; letter-spacing: 1px\">\n",
       "        <textPath xlink:href=\"#arrow-678edcbb29b8435daa4ef70f83d7bc45-0-9\" class=\"displacy-label\" startOffset=\"50%\" side=\"left\" fill=\"currentColor\" text-anchor=\"middle\">pobj</textPath>\n",
       "    </text>\n",
       "    <path class=\"displacy-arrowhead\" d=\"M1970.0,266.5 L1978.0,254.5 1962.0,254.5\" fill=\"currentColor\"/>\n",
       "</g>\n",
       "\n",
       "<g class=\"displacy-arrow\">\n",
       "    <path class=\"displacy-arc\" id=\"arrow-678edcbb29b8435daa4ef70f83d7bc45-0-10\" stroke-width=\"2px\" d=\"M1995,264.5 C1995,177.0 2140.0,177.0 2140.0,264.5\" fill=\"none\" stroke=\"currentColor\"/>\n",
       "    <text dy=\"1.25em\" style=\"font-size: 0.8em; letter-spacing: 1px\">\n",
       "        <textPath xlink:href=\"#arrow-678edcbb29b8435daa4ef70f83d7bc45-0-10\" class=\"displacy-label\" startOffset=\"50%\" side=\"left\" fill=\"currentColor\" text-anchor=\"middle\">npadvmod</textPath>\n",
       "    </text>\n",
       "    <path class=\"displacy-arrowhead\" d=\"M2140.0,266.5 L2148.0,254.5 2132.0,254.5\" fill=\"currentColor\"/>\n",
       "</g>\n",
       "\n",
       "<g class=\"displacy-arrow\">\n",
       "    <path class=\"displacy-arc\" id=\"arrow-678edcbb29b8435daa4ef70f83d7bc45-0-11\" stroke-width=\"2px\" d=\"M2345,264.5 C2345,177.0 2490.0,177.0 2490.0,264.5\" fill=\"none\" stroke=\"currentColor\"/>\n",
       "    <text dy=\"1.25em\" style=\"font-size: 0.8em; letter-spacing: 1px\">\n",
       "        <textPath xlink:href=\"#arrow-678edcbb29b8435daa4ef70f83d7bc45-0-11\" class=\"displacy-label\" startOffset=\"50%\" side=\"left\" fill=\"currentColor\" text-anchor=\"middle\">amod</textPath>\n",
       "    </text>\n",
       "    <path class=\"displacy-arrowhead\" d=\"M2345,266.5 L2337,254.5 2353,254.5\" fill=\"currentColor\"/>\n",
       "</g>\n",
       "\n",
       "<g class=\"displacy-arrow\">\n",
       "    <path class=\"displacy-arc\" id=\"arrow-678edcbb29b8435daa4ef70f83d7bc45-0-12\" stroke-width=\"2px\" d=\"M1120,264.5 C1120,2.0 2500.0,2.0 2500.0,264.5\" fill=\"none\" stroke=\"currentColor\"/>\n",
       "    <text dy=\"1.25em\" style=\"font-size: 0.8em; letter-spacing: 1px\">\n",
       "        <textPath xlink:href=\"#arrow-678edcbb29b8435daa4ef70f83d7bc45-0-12\" class=\"displacy-label\" startOffset=\"50%\" side=\"left\" fill=\"currentColor\" text-anchor=\"middle\">npadvmod</textPath>\n",
       "    </text>\n",
       "    <path class=\"displacy-arrowhead\" d=\"M2500.0,266.5 L2508.0,254.5 2492.0,254.5\" fill=\"currentColor\"/>\n",
       "</g>\n",
       "</svg></span>"
      ],
      "text/plain": [
       "<IPython.core.display.HTML object>"
      ]
     },
     "metadata": {},
     "output_type": "display_data"
    }
   ],
   "source": [
    "#Visualization\n",
    "from spacy import displacy\n",
    "doc = nlp(new_sent)\n",
    "displacy.render(doc, style = 'dep', jupyter=True)"
   ]
  },
  {
   "cell_type": "code",
   "execution_count": 48,
   "id": "ae2b049e",
   "metadata": {},
   "outputs": [
    {
     "name": "stdout",
     "output_type": "stream",
     "text": [
      "Collecting en-core-web-md==3.3.0\n",
      "  Downloading https://github.com/explosion/spacy-models/releases/download/en_core_web_md-3.3.0/en_core_web_md-3.3.0-py3-none-any.whl (33.5 MB)\n",
      "Requirement already satisfied: spacy<3.4.0,>=3.3.0.dev0 in c:\\users\\saina\\appdata\\local\\programs\\python\\python39\\lib\\site-packages (from en-core-web-md==3.3.0) (3.3.1)\n",
      "Requirement already satisfied: tqdm<5.0.0,>=4.38.0 in c:\\users\\saina\\appdata\\local\\programs\\python\\python39\\lib\\site-packages (from spacy<3.4.0,>=3.3.0.dev0->en-core-web-md==3.3.0) (4.64.0)\n",
      "Requirement already satisfied: requests<3.0.0,>=2.13.0 in c:\\users\\saina\\appdata\\local\\programs\\python\\python39\\lib\\site-packages (from spacy<3.4.0,>=3.3.0.dev0->en-core-web-md==3.3.0) (2.26.0)\n",
      "Requirement already satisfied: srsly<3.0.0,>=2.4.3 in c:\\users\\saina\\appdata\\local\\programs\\python\\python39\\lib\\site-packages (from spacy<3.4.0,>=3.3.0.dev0->en-core-web-md==3.3.0) (2.4.3)\n",
      "Requirement already satisfied: blis<0.8.0,>=0.4.0 in c:\\users\\saina\\appdata\\local\\programs\\python\\python39\\lib\\site-packages (from spacy<3.4.0,>=3.3.0.dev0->en-core-web-md==3.3.0) (0.7.7)\n",
      "Requirement already satisfied: spacy-legacy<3.1.0,>=3.0.9 in c:\\users\\saina\\appdata\\local\\programs\\python\\python39\\lib\\site-packages (from spacy<3.4.0,>=3.3.0.dev0->en-core-web-md==3.3.0) (3.0.9)\n",
      "Requirement already satisfied: langcodes<4.0.0,>=3.2.0 in c:\\users\\saina\\appdata\\local\\programs\\python\\python39\\lib\\site-packages (from spacy<3.4.0,>=3.3.0.dev0->en-core-web-md==3.3.0) (3.3.0)\n",
      "Requirement already satisfied: thinc<8.1.0,>=8.0.14 in c:\\users\\saina\\appdata\\local\\programs\\python\\python39\\lib\\site-packages (from spacy<3.4.0,>=3.3.0.dev0->en-core-web-md==3.3.0) (8.0.17)\n",
      "Requirement already satisfied: typer<0.5.0,>=0.3.0 in c:\\users\\saina\\appdata\\local\\programs\\python\\python39\\lib\\site-packages (from spacy<3.4.0,>=3.3.0.dev0->en-core-web-md==3.3.0) (0.4.1)\n",
      "Requirement already satisfied: pydantic!=1.8,!=1.8.1,<1.9.0,>=1.7.4 in c:\\users\\saina\\appdata\\local\\programs\\python\\python39\\lib\\site-packages (from spacy<3.4.0,>=3.3.0.dev0->en-core-web-md==3.3.0) (1.8.2)\n",
      "Requirement already satisfied: spacy-loggers<2.0.0,>=1.0.0 in c:\\users\\saina\\appdata\\local\\programs\\python\\python39\\lib\\site-packages (from spacy<3.4.0,>=3.3.0.dev0->en-core-web-md==3.3.0) (1.0.2)\n",
      "Requirement already satisfied: wasabi<1.1.0,>=0.9.1 in c:\\users\\saina\\appdata\\local\\programs\\python\\python39\\lib\\site-packages (from spacy<3.4.0,>=3.3.0.dev0->en-core-web-md==3.3.0) (0.9.1)\n",
      "Requirement already satisfied: preshed<3.1.0,>=3.0.2 in c:\\users\\saina\\appdata\\local\\programs\\python\\python39\\lib\\site-packages (from spacy<3.4.0,>=3.3.0.dev0->en-core-web-md==3.3.0) (3.0.6)\n",
      "Requirement already satisfied: pathy>=0.3.5 in c:\\users\\saina\\appdata\\local\\programs\\python\\python39\\lib\\site-packages (from spacy<3.4.0,>=3.3.0.dev0->en-core-web-md==3.3.0) (0.6.1)\n",
      "Requirement already satisfied: packaging>=20.0 in c:\\users\\saina\\appdata\\roaming\\python\\python39\\site-packages (from spacy<3.4.0,>=3.3.0.dev0->en-core-web-md==3.3.0) (20.9)\n",
      "Requirement already satisfied: numpy>=1.15.0 in c:\\users\\saina\\appdata\\roaming\\python\\python39\\site-packages (from spacy<3.4.0,>=3.3.0.dev0->en-core-web-md==3.3.0) (1.20.3)\n",
      "Requirement already satisfied: jinja2 in c:\\users\\saina\\appdata\\roaming\\python\\python39\\site-packages (from spacy<3.4.0,>=3.3.0.dev0->en-core-web-md==3.3.0) (3.0.0)\n",
      "Requirement already satisfied: setuptools in c:\\users\\saina\\appdata\\local\\programs\\python\\python39\\lib\\site-packages (from spacy<3.4.0,>=3.3.0.dev0->en-core-web-md==3.3.0) (56.0.0)\n",
      "Requirement already satisfied: cymem<2.1.0,>=2.0.2 in c:\\users\\saina\\appdata\\local\\programs\\python\\python39\\lib\\site-packages (from spacy<3.4.0,>=3.3.0.dev0->en-core-web-md==3.3.0) (2.0.6)\n",
      "Requirement already satisfied: murmurhash<1.1.0,>=0.28.0 in c:\\users\\saina\\appdata\\local\\programs\\python\\python39\\lib\\site-packages (from spacy<3.4.0,>=3.3.0.dev0->en-core-web-md==3.3.0) (1.0.7)\n",
      "Requirement already satisfied: catalogue<2.1.0,>=2.0.6 in c:\\users\\saina\\appdata\\local\\programs\\python\\python39\\lib\\site-packages (from spacy<3.4.0,>=3.3.0.dev0->en-core-web-md==3.3.0) (2.0.7)"
     ]
    },
    {
     "name": "stderr",
     "output_type": "stream",
     "text": [
      "WARNING: You are using pip version 21.3.1; however, version 22.1.2 is available.\n",
      "You should consider upgrading via the 'C:\\Users\\Saina\\AppData\\Local\\Programs\\Python\\Python39\\python.exe -m pip install --upgrade pip' command.\n"
     ]
    },
    {
     "name": "stdout",
     "output_type": "stream",
     "text": [
      "\n",
      "Requirement already satisfied: pyparsing>=2.0.2 in c:\\users\\saina\\appdata\\roaming\\python\\python39\\site-packages (from packaging>=20.0->spacy<3.4.0,>=3.3.0.dev0->en-core-web-md==3.3.0) (2.4.7)\n",
      "Requirement already satisfied: smart-open<6.0.0,>=5.0.0 in c:\\users\\saina\\appdata\\local\\programs\\python\\python39\\lib\\site-packages (from pathy>=0.3.5->spacy<3.4.0,>=3.3.0.dev0->en-core-web-md==3.3.0) (5.2.1)\n",
      "Requirement already satisfied: typing-extensions>=3.7.4.3 in c:\\users\\saina\\appdata\\local\\programs\\python\\python39\\lib\\site-packages (from pydantic!=1.8,!=1.8.1,<1.9.0,>=1.7.4->spacy<3.4.0,>=3.3.0.dev0->en-core-web-md==3.3.0) (4.2.0)\n",
      "Requirement already satisfied: urllib3<1.27,>=1.21.1 in c:\\users\\saina\\appdata\\local\\programs\\python\\python39\\lib\\site-packages (from requests<3.0.0,>=2.13.0->spacy<3.4.0,>=3.3.0.dev0->en-core-web-md==3.3.0) (1.26.7)\n",
      "Requirement already satisfied: charset-normalizer~=2.0.0 in c:\\users\\saina\\appdata\\local\\programs\\python\\python39\\lib\\site-packages (from requests<3.0.0,>=2.13.0->spacy<3.4.0,>=3.3.0.dev0->en-core-web-md==3.3.0) (2.0.7)\n",
      "Requirement already satisfied: idna<4,>=2.5 in c:\\users\\saina\\appdata\\local\\programs\\python\\python39\\lib\\site-packages (from requests<3.0.0,>=2.13.0->spacy<3.4.0,>=3.3.0.dev0->en-core-web-md==3.3.0) (3.3)\n",
      "Requirement already satisfied: certifi>=2017.4.17 in c:\\users\\saina\\appdata\\local\\programs\\python\\python39\\lib\\site-packages (from requests<3.0.0,>=2.13.0->spacy<3.4.0,>=3.3.0.dev0->en-core-web-md==3.3.0) (2021.10.8)\n",
      "Requirement already satisfied: colorama in c:\\users\\saina\\appdata\\roaming\\python\\python39\\site-packages (from tqdm<5.0.0,>=4.38.0->spacy<3.4.0,>=3.3.0.dev0->en-core-web-md==3.3.0) (0.4.4)\n",
      "Requirement already satisfied: click<9.0.0,>=7.1.1 in c:\\users\\saina\\appdata\\local\\programs\\python\\python39\\lib\\site-packages (from typer<0.5.0,>=0.3.0->spacy<3.4.0,>=3.3.0.dev0->en-core-web-md==3.3.0) (8.1.3)\n",
      "Requirement already satisfied: MarkupSafe>=2.0.0rc2 in c:\\users\\saina\\appdata\\roaming\\python\\python39\\site-packages (from jinja2->spacy<3.4.0,>=3.3.0.dev0->en-core-web-md==3.3.0) (2.0.0)\n",
      "[+] Download and installation successful\n",
      "You can now load the package via spacy.load('en_core_web_md')\n"
     ]
    }
   ],
   "source": [
    "#word vectors and similiarity\n",
    "#Download model:\n",
    "!python -m spacy download en_core_web_md"
   ]
  },
  {
   "cell_type": "code",
   "execution_count": 45,
   "id": "8f0248bf",
   "metadata": {},
   "outputs": [
    {
     "data": {
      "text/plain": [
       "'India, officially the Republic of India? Is a country in South Asia, June, 11th May'"
      ]
     },
     "execution_count": 45,
     "metadata": {},
     "output_type": "execute_result"
    }
   ],
   "source": [
    "nlp = spacy.load('en_core_web_md')"
   ]
  },
  {
   "cell_type": "code",
   "execution_count": 49,
   "id": "fbd80652",
   "metadata": {},
   "outputs": [
    {
     "name": "stdout",
     "output_type": "stream",
     "text": [
      "India ----> True\n",
      ", ----> True\n",
      "officially ----> True\n",
      "the ----> True\n",
      "Republic ----> True\n",
      "of ----> True\n",
      "India ----> True\n",
      "? ----> True\n",
      "Is ----> True\n",
      "a ----> True\n",
      "country ----> True\n",
      "in ----> True\n",
      "South ----> True\n",
      "Asia ----> True\n",
      ", ----> True\n",
      "June ----> True\n",
      ", ----> True\n",
      "11th ----> True\n",
      "May ----> True\n"
     ]
    }
   ],
   "source": [
    "#vector is a array of 300 types for each word and is a trained model\n",
    "doc = nlp(new_sent)\n",
    "for token in doc:\n",
    "    print(token,'---->', token.has_vector)"
   ]
  },
  {
   "cell_type": "code",
   "execution_count": 50,
   "id": "e7a9871d",
   "metadata": {},
   "outputs": [
    {
     "name": "stdout",
     "output_type": "stream",
     "text": [
      "India -----> 7.438891\n",
      ", -----> 5.485588\n",
      "officially -----> 5.96633\n",
      "the -----> 6.167199\n",
      "Republic -----> 6.376198\n",
      "of -----> 6.167684\n",
      "India -----> 7.438891\n",
      "? -----> 5.485588\n",
      "Is -----> 5.581903\n",
      "a -----> 5.581903\n",
      "country -----> 7.3632965\n",
      "in -----> 6.167199\n",
      "South -----> 6.376198\n",
      "Asia -----> 6.4861326\n",
      ", -----> 5.485588\n",
      "June -----> 6.481267\n",
      ", -----> 5.485588\n",
      "11th -----> 6.22772\n",
      "May -----> 6.648183\n"
     ]
    }
   ],
   "source": [
    "for token in doc:\n",
    "    print(token,'----->',token.vector_norm)"
   ]
  },
  {
   "cell_type": "code",
   "execution_count": 51,
   "id": "4a5e8dbd",
   "metadata": {},
   "outputs": [
    {
     "data": {
      "text/plain": [
       "0.5222234068535565"
      ]
     },
     "execution_count": 51,
     "metadata": {},
     "output_type": "execute_result"
    }
   ],
   "source": [
    "#Similarity between two vectors:\n",
    "text = \"excellent\"\n",
    "text1 = \"good\"\n",
    "\n",
    "doc = nlp(text)\n",
    "doc1 = nlp(text1)\n",
    "\n",
    "doc.similarity(doc1)\n",
    "#If two words are similiar then the value will be close to 1 else the value will be close to 0l"
   ]
  },
  {
   "cell_type": "code",
   "execution_count": 53,
   "id": "f1007c8b",
   "metadata": {},
   "outputs": [
    {
     "name": "stdout",
     "output_type": "stream",
     "text": [
      "lion lion 1.0\n",
      "lion bear 0.42525938153266907\n",
      "lion cow 0.5135680437088013\n",
      "lion apple 0.25588127970695496\n",
      "lion mango 0.3112117648124695\n",
      "lion grapes 0.23291246592998505\n",
      "bear lion 0.42525938153266907\n",
      "bear bear 1.0\n",
      "bear cow 0.5596494078636169\n",
      "bear apple 0.2901766002178192\n",
      "bear mango 0.18352441489696503\n",
      "bear grapes 0.23840580880641937\n",
      "cow lion 0.5135680437088013\n",
      "cow bear 0.5596494078636169\n",
      "cow cow 1.0\n",
      "cow apple 0.3741353154182434\n",
      "cow mango 0.3597010374069214\n",
      "cow grapes 0.3421638309955597\n",
      "apple lion 0.25588127970695496\n",
      "apple bear 0.2901766002178192\n",
      "apple cow 0.3741353154182434\n",
      "apple apple 1.0\n",
      "apple mango 0.5986488461494446\n",
      "apple grapes 0.6935037970542908\n",
      "mango lion 0.3112117648124695\n",
      "mango bear 0.18352441489696503\n",
      "mango cow 0.3597010374069214\n",
      "mango apple 0.5986488461494446\n",
      "mango mango 1.0\n",
      "mango grapes 0.5442537069320679\n",
      "grapes lion 0.23291246592998505\n",
      "grapes bear 0.23840580880641937\n",
      "grapes cow 0.3421638309955597\n",
      "grapes apple 0.6935037970542908\n",
      "grapes mango 0.5442537069320679\n",
      "grapes grapes 1.0\n"
     ]
    }
   ],
   "source": [
    "text = 'lion bear cow apple mango grapes'\n",
    "tokens = nlp(text)\n",
    "for token1 in tokens:\n",
    "    for token13 in tokens:\n",
    "        print(token1.text , token13.text, token1.similarity(token13))"
   ]
  }
 ],
 "metadata": {
  "kernelspec": {
   "display_name": "Python 3",
   "language": "python",
   "name": "python3"
  },
  "language_info": {
   "codemirror_mode": {
    "name": "ipython",
    "version": 3
   },
   "file_extension": ".py",
   "mimetype": "text/x-python",
   "name": "python",
   "nbconvert_exporter": "python",
   "pygments_lexer": "ipython3",
   "version": "3.9.5"
  }
 },
 "nbformat": 4,
 "nbformat_minor": 5
}
