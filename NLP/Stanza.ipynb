{
 "cells": [
  {
   "cell_type": "code",
   "execution_count": 1,
   "id": "40c3b655",
   "metadata": {},
   "outputs": [
    {
     "name": "stdout",
     "output_type": "stream",
     "text": [
      "Collecting stanza\n",
      "  Downloading stanza-1.4.0-py3-none-any.whl (574 kB)\n",
      "Requirement already satisfied: numpy in c:\\users\\saina\\appdata\\roaming\\python\\python39\\site-packages (from stanza) (1.20.3)\n",
      "Collecting transformers\n",
      "  Downloading transformers-4.20.0-py3-none-any.whl (4.4 MB)\n",
      "Requirement already satisfied: tqdm in c:\\users\\saina\\appdata\\local\\programs\\python\\python39\\lib\\site-packages (from stanza) (4.64.0)\n",
      "Collecting torch>=1.3.0\n",
      "  Downloading torch-1.11.0-cp39-cp39-win_amd64.whl (157.9 MB)\n",
      "Requirement already satisfied: requests in c:\\users\\saina\\appdata\\local\\programs\\python\\python39\\lib\\site-packages (from stanza) (2.26.0)\n",
      "Collecting emoji\n",
      "  Downloading emoji-1.7.0.tar.gz (175 kB)\n",
      "  Preparing metadata (setup.py): started\n",
      "  Preparing metadata (setup.py): finished with status 'done'\n",
      "Collecting protobuf\n",
      "  Downloading protobuf-4.21.1-cp39-cp39-win_amd64.whl (524 kB)\n",
      "Requirement already satisfied: six in c:\\users\\saina\\appdata\\roaming\\python\\python39\\site-packages (from stanza) (1.16.0)\n",
      "Requirement already satisfied: typing-extensions in c:\\users\\saina\\appdata\\local\\programs\\python\\python39\\lib\\site-packages (from torch>=1.3.0->stanza) (4.2.0)\n",
      "Requirement already satisfied: idna<4,>=2.5 in c:\\users\\saina\\appdata\\local\\programs\\python\\python39\\lib\\site-packages (from requests->stanza) (3.3)\n",
      "Requirement already satisfied: charset-normalizer~=2.0.0 in c:\\users\\saina\\appdata\\local\\programs\\python\\python39\\lib\\site-packages (from requests->stanza) (2.0.7)\n",
      "Requirement already satisfied: urllib3<1.27,>=1.21.1 in c:\\users\\saina\\appdata\\local\\programs\\python\\python39\\lib\\site-packages (from requests->stanza) (1.26.7)\n",
      "Requirement already satisfied: certifi>=2017.4.17 in c:\\users\\saina\\appdata\\local\\programs\\python\\python39\\lib\\site-packages (from requests->stanza) (2021.10.8)\n",
      "Requirement already satisfied: colorama in c:\\users\\saina\\appdata\\roaming\\python\\python39\\site-packages (from tqdm->stanza) (0.4.4)\n",
      "Collecting filelock\n",
      "  Downloading filelock-3.7.1-py3-none-any.whl (10 kB)\n",
      "Requirement already satisfied: packaging>=20.0 in c:\\users\\saina\\appdata\\roaming\\python\\python39\\site-packages (from transformers->stanza) (20.9)\n",
      "Collecting huggingface-hub<1.0,>=0.1.0\n",
      "  Downloading huggingface_hub-0.7.0-py3-none-any.whl (86 kB)\n",
      "Requirement already satisfied: regex!=2019.12.17 in c:\\users\\saina\\appdata\\local\\programs\\python\\python39\\lib\\site-packages (from transformers->stanza) (2022.6.2)\n",
      "Collecting tokenizers!=0.11.3,<0.13,>=0.11.1\n",
      "  Downloading tokenizers-0.12.1-cp39-cp39-win_amd64.whl (3.3 MB)\n",
      "Collecting pyyaml>=5.1\n",
      "  Downloading PyYAML-6.0-cp39-cp39-win_amd64.whl (151 kB)\n",
      "Requirement already satisfied: pyparsing>=2.0.2 in c:\\users\\saina\\appdata\\roaming\\python\\python39\\site-packages (from packaging>=20.0->transformers->stanza) (2.4.7)\n",
      "Using legacy 'setup.py install' for emoji, since package 'wheel' is not installed.\n",
      "Installing collected packages: pyyaml, filelock, tokenizers, huggingface-hub, transformers, torch, protobuf, emoji, stanza\n",
      "    Running setup.py install for emoji: started\n",
      "    Running setup.py install for emoji: finished with status 'done'\n",
      "Successfully installed emoji-1.7.0 filelock-3.7.1 huggingface-hub-0.7.0 protobuf-4.21.1 pyyaml-6.0 stanza-1.4.0 tokenizers-0.12.1 torch-1.11.0 transformers-4.20.0\n"
     ]
    },
    {
     "name": "stderr",
     "output_type": "stream",
     "text": [
      "WARNING: You are using pip version 21.3.1; however, version 22.1.2 is available.\n",
      "You should consider upgrading via the 'c:\\users\\saina\\appdata\\local\\programs\\python\\python39\\python.exe -m pip install --upgrade pip' command.\n"
     ]
    }
   ],
   "source": [
    "!pip install stanza"
   ]
  },
  {
   "cell_type": "code",
   "execution_count": 2,
   "id": "d1a2a0ac",
   "metadata": {},
   "outputs": [],
   "source": [
    "import stanza"
   ]
  },
  {
   "cell_type": "code",
   "execution_count": 4,
   "id": "497e453c",
   "metadata": {},
   "outputs": [
    {
     "data": {
      "application/vnd.jupyter.widget-view+json": {
       "model_id": "54c42c8d869641e6bf5838985be23bd2",
       "version_major": 2,
       "version_minor": 0
      },
      "text/plain": [
       "Downloading https://raw.githubusercontent.com/stanfordnlp/stanza-resources/main/resources_1.4.0.json:   0%|   …"
      ]
     },
     "metadata": {},
     "output_type": "display_data"
    },
    {
     "name": "stderr",
     "output_type": "stream",
     "text": [
      "2022-06-17 16:40:42 INFO: Downloading default packages for language: en (English)...\n"
     ]
    },
    {
     "data": {
      "application/vnd.jupyter.widget-view+json": {
       "model_id": "c1e69a0744fa490ab475d9d160a37443",
       "version_major": 2,
       "version_minor": 0
      },
      "text/plain": [
       "Downloading https://huggingface.co/stanfordnlp/stanza-en/resolve/v1.4.0/models/default.zip:   0%|          | 0…"
      ]
     },
     "metadata": {},
     "output_type": "display_data"
    },
    {
     "name": "stderr",
     "output_type": "stream",
     "text": [
      "2022-06-17 16:41:27 INFO: Finished downloading models and saved to C:\\Users\\Saina\\stanza_resources.\n"
     ]
    }
   ],
   "source": [
    "#Download the model\n",
    "stanza.download('en')"
   ]
  },
  {
   "cell_type": "code",
   "execution_count": 7,
   "id": "013192ca",
   "metadata": {},
   "outputs": [
    {
     "data": {
      "application/vnd.jupyter.widget-view+json": {
       "model_id": "68ec804616de4a52aac93194da6a39ed",
       "version_major": 2,
       "version_minor": 0
      },
      "text/plain": [
       "Downloading https://raw.githubusercontent.com/stanfordnlp/stanza-resources/main/resources_1.4.0.json:   0%|   …"
      ]
     },
     "metadata": {},
     "output_type": "display_data"
    },
    {
     "name": "stderr",
     "output_type": "stream",
     "text": [
      "2022-06-19 00:24:18 INFO: Loading these models for language: en (English):\n",
      "========================\n",
      "| Processor | Package  |\n",
      "------------------------\n",
      "| tokenize  | combined |\n",
      "========================\n",
      "\n",
      "2022-06-19 00:24:18 INFO: Use device: cpu\n",
      "2022-06-19 00:24:18 INFO: Loading: tokenize\n",
      "2022-06-19 00:24:18 INFO: Done loading processors!\n"
     ]
    }
   ],
   "source": [
    "sent = \"India, officially the Republic of India? Is a country in South Asia, June, 11th May\"\n",
    "pipe_line = stanza.Pipeline('en', processors = 'tokenize')"
   ]
  },
  {
   "cell_type": "code",
   "execution_count": 8,
   "id": "42a27ff9",
   "metadata": {},
   "outputs": [],
   "source": [
    "doc = pipe_line(sent)"
   ]
  },
  {
   "cell_type": "code",
   "execution_count": 9,
   "id": "a728653f",
   "metadata": {},
   "outputs": [
    {
     "data": {
      "text/plain": [
       "[\n",
       "  [\n",
       "    {\n",
       "      \"id\": 1,\n",
       "      \"text\": \"India\",\n",
       "      \"start_char\": 0,\n",
       "      \"end_char\": 5\n",
       "    },\n",
       "    {\n",
       "      \"id\": 2,\n",
       "      \"text\": \",\",\n",
       "      \"start_char\": 5,\n",
       "      \"end_char\": 6\n",
       "    },\n",
       "    {\n",
       "      \"id\": 3,\n",
       "      \"text\": \"officially\",\n",
       "      \"start_char\": 7,\n",
       "      \"end_char\": 17\n",
       "    },\n",
       "    {\n",
       "      \"id\": 4,\n",
       "      \"text\": \"the\",\n",
       "      \"start_char\": 18,\n",
       "      \"end_char\": 21\n",
       "    },\n",
       "    {\n",
       "      \"id\": 5,\n",
       "      \"text\": \"Republic\",\n",
       "      \"start_char\": 22,\n",
       "      \"end_char\": 30\n",
       "    },\n",
       "    {\n",
       "      \"id\": 6,\n",
       "      \"text\": \"of\",\n",
       "      \"start_char\": 31,\n",
       "      \"end_char\": 33\n",
       "    },\n",
       "    {\n",
       "      \"id\": 7,\n",
       "      \"text\": \"India\",\n",
       "      \"start_char\": 34,\n",
       "      \"end_char\": 39\n",
       "    },\n",
       "    {\n",
       "      \"id\": 8,\n",
       "      \"text\": \"?\",\n",
       "      \"start_char\": 39,\n",
       "      \"end_char\": 40\n",
       "    }\n",
       "  ],\n",
       "  [\n",
       "    {\n",
       "      \"id\": 1,\n",
       "      \"text\": \"Is\",\n",
       "      \"start_char\": 41,\n",
       "      \"end_char\": 43\n",
       "    },\n",
       "    {\n",
       "      \"id\": 2,\n",
       "      \"text\": \"a\",\n",
       "      \"start_char\": 44,\n",
       "      \"end_char\": 45\n",
       "    },\n",
       "    {\n",
       "      \"id\": 3,\n",
       "      \"text\": \"country\",\n",
       "      \"start_char\": 46,\n",
       "      \"end_char\": 53\n",
       "    },\n",
       "    {\n",
       "      \"id\": 4,\n",
       "      \"text\": \"in\",\n",
       "      \"start_char\": 54,\n",
       "      \"end_char\": 56\n",
       "    },\n",
       "    {\n",
       "      \"id\": 5,\n",
       "      \"text\": \"South\",\n",
       "      \"start_char\": 57,\n",
       "      \"end_char\": 62\n",
       "    },\n",
       "    {\n",
       "      \"id\": 6,\n",
       "      \"text\": \"Asia\",\n",
       "      \"start_char\": 63,\n",
       "      \"end_char\": 67\n",
       "    },\n",
       "    {\n",
       "      \"id\": 7,\n",
       "      \"text\": \",\",\n",
       "      \"start_char\": 67,\n",
       "      \"end_char\": 68\n",
       "    },\n",
       "    {\n",
       "      \"id\": 8,\n",
       "      \"text\": \"June\",\n",
       "      \"start_char\": 69,\n",
       "      \"end_char\": 73\n",
       "    },\n",
       "    {\n",
       "      \"id\": 9,\n",
       "      \"text\": \",\",\n",
       "      \"start_char\": 73,\n",
       "      \"end_char\": 74\n",
       "    },\n",
       "    {\n",
       "      \"id\": 10,\n",
       "      \"text\": \"11th\",\n",
       "      \"start_char\": 75,\n",
       "      \"end_char\": 79\n",
       "    },\n",
       "    {\n",
       "      \"id\": 11,\n",
       "      \"text\": \"May\",\n",
       "      \"start_char\": 80,\n",
       "      \"end_char\": 83\n",
       "    }\n",
       "  ]\n",
       "]"
      ]
     },
     "execution_count": 9,
     "metadata": {},
     "output_type": "execute_result"
    }
   ],
   "source": [
    "doc"
   ]
  },
  {
   "cell_type": "code",
   "execution_count": 10,
   "id": "1724ca13",
   "metadata": {},
   "outputs": [
    {
     "data": {
      "text/plain": [
       "[[\n",
       "   {\n",
       "     \"id\": 1,\n",
       "     \"text\": \"India\",\n",
       "     \"start_char\": 0,\n",
       "     \"end_char\": 5\n",
       "   },\n",
       "   {\n",
       "     \"id\": 2,\n",
       "     \"text\": \",\",\n",
       "     \"start_char\": 5,\n",
       "     \"end_char\": 6\n",
       "   },\n",
       "   {\n",
       "     \"id\": 3,\n",
       "     \"text\": \"officially\",\n",
       "     \"start_char\": 7,\n",
       "     \"end_char\": 17\n",
       "   },\n",
       "   {\n",
       "     \"id\": 4,\n",
       "     \"text\": \"the\",\n",
       "     \"start_char\": 18,\n",
       "     \"end_char\": 21\n",
       "   },\n",
       "   {\n",
       "     \"id\": 5,\n",
       "     \"text\": \"Republic\",\n",
       "     \"start_char\": 22,\n",
       "     \"end_char\": 30\n",
       "   },\n",
       "   {\n",
       "     \"id\": 6,\n",
       "     \"text\": \"of\",\n",
       "     \"start_char\": 31,\n",
       "     \"end_char\": 33\n",
       "   },\n",
       "   {\n",
       "     \"id\": 7,\n",
       "     \"text\": \"India\",\n",
       "     \"start_char\": 34,\n",
       "     \"end_char\": 39\n",
       "   },\n",
       "   {\n",
       "     \"id\": 8,\n",
       "     \"text\": \"?\",\n",
       "     \"start_char\": 39,\n",
       "     \"end_char\": 40\n",
       "   }\n",
       " ],\n",
       " [\n",
       "   {\n",
       "     \"id\": 1,\n",
       "     \"text\": \"Is\",\n",
       "     \"start_char\": 41,\n",
       "     \"end_char\": 43\n",
       "   },\n",
       "   {\n",
       "     \"id\": 2,\n",
       "     \"text\": \"a\",\n",
       "     \"start_char\": 44,\n",
       "     \"end_char\": 45\n",
       "   },\n",
       "   {\n",
       "     \"id\": 3,\n",
       "     \"text\": \"country\",\n",
       "     \"start_char\": 46,\n",
       "     \"end_char\": 53\n",
       "   },\n",
       "   {\n",
       "     \"id\": 4,\n",
       "     \"text\": \"in\",\n",
       "     \"start_char\": 54,\n",
       "     \"end_char\": 56\n",
       "   },\n",
       "   {\n",
       "     \"id\": 5,\n",
       "     \"text\": \"South\",\n",
       "     \"start_char\": 57,\n",
       "     \"end_char\": 62\n",
       "   },\n",
       "   {\n",
       "     \"id\": 6,\n",
       "     \"text\": \"Asia\",\n",
       "     \"start_char\": 63,\n",
       "     \"end_char\": 67\n",
       "   },\n",
       "   {\n",
       "     \"id\": 7,\n",
       "     \"text\": \",\",\n",
       "     \"start_char\": 67,\n",
       "     \"end_char\": 68\n",
       "   },\n",
       "   {\n",
       "     \"id\": 8,\n",
       "     \"text\": \"June\",\n",
       "     \"start_char\": 69,\n",
       "     \"end_char\": 73\n",
       "   },\n",
       "   {\n",
       "     \"id\": 9,\n",
       "     \"text\": \",\",\n",
       "     \"start_char\": 73,\n",
       "     \"end_char\": 74\n",
       "   },\n",
       "   {\n",
       "     \"id\": 10,\n",
       "     \"text\": \"11th\",\n",
       "     \"start_char\": 75,\n",
       "     \"end_char\": 79\n",
       "   },\n",
       "   {\n",
       "     \"id\": 11,\n",
       "     \"text\": \"May\",\n",
       "     \"start_char\": 80,\n",
       "     \"end_char\": 83\n",
       "   }\n",
       " ]]"
      ]
     },
     "execution_count": 10,
     "metadata": {},
     "output_type": "execute_result"
    }
   ],
   "source": [
    "doc.sentences"
   ]
  },
  {
   "cell_type": "code",
   "execution_count": null,
   "id": "010df779",
   "metadata": {},
   "outputs": [],
   "source": []
  }
 ],
 "metadata": {
  "kernelspec": {
   "display_name": "Python 3",
   "language": "python",
   "name": "python3"
  },
  "language_info": {
   "codemirror_mode": {
    "name": "ipython",
    "version": 3
   },
   "file_extension": ".py",
   "mimetype": "text/x-python",
   "name": "python",
   "nbconvert_exporter": "python",
   "pygments_lexer": "ipython3",
   "version": "3.9.5"
  }
 },
 "nbformat": 4,
 "nbformat_minor": 5
}
