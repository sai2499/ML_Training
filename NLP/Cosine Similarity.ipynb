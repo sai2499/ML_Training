{
 "cells": [
  {
   "cell_type": "code",
   "execution_count": null,
   "id": "f3f31184",
   "metadata": {},
   "outputs": [],
   "source": [
    "#https://www.machinelearningplus.com/nlp/cosine-similarity/"
   ]
  },
  {
   "cell_type": "code",
   "execution_count": 32,
   "id": "f74b748e",
   "metadata": {},
   "outputs": [],
   "source": [
    "import numpy as np\n",
    "import matplotlib.pyplot as plt\n",
    "import pandas as pd"
   ]
  },
  {
   "cell_type": "code",
   "execution_count": 8,
   "id": "4e53da6c",
   "metadata": {},
   "outputs": [
    {
     "data": {
      "text/plain": [
       "(0.0, 10.0)"
      ]
     },
     "execution_count": 8,
     "metadata": {},
     "output_type": "execute_result"
    },
    {
     "data": {
      "image/png": "[encoded data removed]",
      "text/plain": [
       "<Figure size 432x288 with 1 Axes>"
      ]
     },
     "metadata": {
      "needs_background": "light"
     },
     "output_type": "display_data"
    }
   ],
   "source": [
    "A = np.array([7,3])\n",
    "B = np.array([3,7])\n",
    "ax = plt.axes()\n",
    "ax.arrow(0,0,A[0],A[1], head_width =0.4, head_length=0.5)\n",
    "plt.annotate(f\"A({A[0],A[1]})\",xy=(A[0],A[1]), xytext=(A[0]+0.5, A[1]))\n",
    "\n",
    "ax.arrow(0,0,B[0],B[1], head_width =0.4, head_length=0.5)\n",
    "plt.annotate(f\"B({B[0],B[1]})\",xy=(B[0],B[1]), xytext=(B[0]+0.5, B[1]))\n",
    "\n",
    "plt.xlim(0,10)\n",
    "plt.ylim(0,10)"
   ]
  },
  {
   "cell_type": "code",
   "execution_count": 12,
   "id": "17a7e40a",
   "metadata": {},
   "outputs": [
    {
     "name": "stdout",
     "output_type": "stream",
     "text": [
      "Cosine Similarity is:  0.7241379310344827\n"
     ]
    }
   ],
   "source": [
    "#Cosine Similarity\n",
    "cos_sim = np.dot(A,B)/(np.linalg.norm(A)*np.linalg.norm(B))\n",
    "print(\"Cosine Similarity is: \",cos_sim)"
   ]
  },
  {
   "cell_type": "code",
   "execution_count": 15,
   "id": "db508857",
   "metadata": {},
   "outputs": [
    {
     "name": "stdout",
     "output_type": "stream",
     "text": [
      "[[0.72413793]]\n"
     ]
    }
   ],
   "source": [
    "#Cosine Similarity using sklearn library\n",
    "from sklearn.metrics.pairwise import cosine_similarity\n",
    "A = np.array([7,3])\n",
    "B = np.array([3,7])\n",
    "cos_sim = cosine_similarity(A.reshape(1,-1),B.reshape(1,-1))\n",
    "print(cos_sim)"
   ]
  },
  {
   "cell_type": "code",
   "execution_count": 23,
   "id": "13475d7b",
   "metadata": {},
   "outputs": [],
   "source": [
    "# Define the documents\n",
    "doc_trump = \"Mr. Trump became president after winning the political election. Though he lost the support of some republican friends, Trump is friends with President Putin\"\n",
    "doc_election = \"President Trump says Putin had no political interference is the election outcome. He says it was a witchhunt by political parties. He claimed President Putin is a friend who had nothing to do with the election\"\n",
    "doc_putin = \"Post elections, Vladimir Putin became President of Russia. President Putin had served as the Prime Minister earlier in his political career\"\n",
    "doc_sai = \"He is an AI Engineer\"\n",
    "doc = [doc_trump, doc_election, doc_putin, doc_sai]"
   ]
  },
  {
   "cell_type": "code",
   "execution_count": 28,
   "id": "2359abce",
   "metadata": {},
   "outputs": [
    {
     "data": {
      "text/plain": [
       "['ai',\n",
       " 'career',\n",
       " 'claimed',\n",
       " 'earlier',\n",
       " 'election',\n",
       " 'elections',\n",
       " 'engineer',\n",
       " 'friend',\n",
       " 'friends',\n",
       " 'interference',\n",
       " 'lost',\n",
       " 'minister',\n",
       " 'mr',\n",
       " 'outcome',\n",
       " 'parties',\n",
       " 'political',\n",
       " 'post',\n",
       " 'president',\n",
       " 'prime',\n",
       " 'putin',\n",
       " 'republican',\n",
       " 'russia',\n",
       " 'says',\n",
       " 'served',\n",
       " 'support',\n",
       " 'trump',\n",
       " 'vladimir',\n",
       " 'winning',\n",
       " 'witchhunt']"
      ]
     },
     "execution_count": 28,
     "metadata": {},
     "output_type": "execute_result"
    }
   ],
   "source": [
    "#Step 1 Convert to vector\n",
    "from sklearn.feature_extraction.text import CountVectorizer\n",
    "\n",
    "cv = CountVectorizer(stop_words = 'english')\n",
    "sparse_matrix = cv.fit_transform(doc)\n",
    "cv.get_feature_names()"
   ]
  },
  {
   "cell_type": "code",
   "execution_count": 25,
   "id": "b11fc136",
   "metadata": {},
   "outputs": [
    {
     "data": {
      "text/plain": [
       "array([[0, 0, 0, 0, 1, 0, 0, 0, 2, 0, 1, 0, 1, 0, 0, 1, 0, 2, 0, 1, 1, 0,\n",
       "        0, 0, 1, 2, 0, 1, 0],\n",
       "       [0, 0, 1, 0, 2, 0, 0, 1, 0, 1, 0, 0, 0, 1, 1, 2, 0, 2, 0, 2, 0, 0,\n",
       "        2, 0, 0, 1, 0, 0, 1],\n",
       "       [0, 1, 0, 1, 0, 1, 0, 0, 0, 0, 0, 1, 0, 0, 0, 1, 1, 2, 1, 2, 0, 1,\n",
       "        0, 1, 0, 0, 1, 0, 0],\n",
       "       [1, 0, 0, 0, 0, 0, 1, 0, 0, 0, 0, 0, 0, 0, 0, 0, 0, 0, 0, 0, 0, 0,\n",
       "        0, 0, 0, 0, 0, 0, 0]], dtype=int64)"
      ]
     },
     "execution_count": 25,
     "metadata": {},
     "output_type": "execute_result"
    }
   ],
   "source": [
    "sparse_matrix.toarray()"
   ]
  },
  {
   "cell_type": "code",
   "execution_count": 36,
   "id": "db4dcf1c",
   "metadata": {},
   "outputs": [],
   "source": [
    "df = pd.DataFrame(sparse_matrix.toarray(), columns=cv.get_feature_names(), index = ['doc_trump', 'doc_election', 'doc_putin', 'doc_sai'])"
   ]
  },
  {
   "cell_type": "code",
   "execution_count": 37,
   "id": "36b71b22",
   "metadata": {},
   "outputs": [
    {
     "data": {
      "text/html": [
       "<div>\n",
       "<style scoped>\n",
       "    .dataframe tbody tr th:only-of-type {\n",
       "        vertical-align: middle;\n",
       "    }\n",
       "\n",
       "    .dataframe tbody tr th {\n",
       "        vertical-align: top;\n",
       "    }\n",
       "\n",
       "    .dataframe thead th {\n",
       "        text-align: right;\n",
       "    }\n",
       "</style>\n",
       "<table border=\"1\" class=\"dataframe\">\n",
       "  <thead>\n",
       "    <tr style=\"text-align: right;\">\n",
       "      <th></th>\n",
       "      <th>ai</th>\n",
       "      <th>career</th>\n",
       "      <th>claimed</th>\n",
       "      <th>earlier</th>\n",
       "      <th>election</th>\n",
       "      <th>elections</th>\n",
       "      <th>engineer</th>\n",
       "      <th>friend</th>\n",
       "      <th>friends</th>\n",
       "      <th>interference</th>\n",
       "      <th>...</th>\n",
       "      <th>putin</th>\n",
       "      <th>republican</th>\n",
       "      <th>russia</th>\n",
       "      <th>says</th>\n",
       "      <th>served</th>\n",
       "      <th>support</th>\n",
       "      <th>trump</th>\n",
       "      <th>vladimir</th>\n",
       "      <th>winning</th>\n",
       "      <th>witchhunt</th>\n",
       "    </tr>\n",
       "  </thead>\n",
       "  <tbody>\n",
       "    <tr>\n",
       "      <th>doc_trump</th>\n",
       "      <td>0</td>\n",
       "      <td>0</td>\n",
       "      <td>0</td>\n",
       "      <td>0</td>\n",
       "      <td>1</td>\n",
       "      <td>0</td>\n",
       "      <td>0</td>\n",
       "      <td>0</td>\n",
       "      <td>2</td>\n",
       "      <td>0</td>\n",
       "      <td>...</td>\n",
       "      <td>1</td>\n",
       "      <td>1</td>\n",
       "      <td>0</td>\n",
       "      <td>0</td>\n",
       "      <td>0</td>\n",
       "      <td>1</td>\n",
       "      <td>2</td>\n",
       "      <td>0</td>\n",
       "      <td>1</td>\n",
       "      <td>0</td>\n",
       "    </tr>\n",
       "    <tr>\n",
       "      <th>doc_election</th>\n",
       "      <td>0</td>\n",
       "      <td>0</td>\n",
       "      <td>1</td>\n",
       "      <td>0</td>\n",
       "      <td>2</td>\n",
       "      <td>0</td>\n",
       "      <td>0</td>\n",
       "      <td>1</td>\n",
       "      <td>0</td>\n",
       "      <td>1</td>\n",
       "      <td>...</td>\n",
       "      <td>2</td>\n",
       "      <td>0</td>\n",
       "      <td>0</td>\n",
       "      <td>2</td>\n",
       "      <td>0</td>\n",
       "      <td>0</td>\n",
       "      <td>1</td>\n",
       "      <td>0</td>\n",
       "      <td>0</td>\n",
       "      <td>1</td>\n",
       "    </tr>\n",
       "    <tr>\n",
       "      <th>doc_putin</th>\n",
       "      <td>0</td>\n",
       "      <td>1</td>\n",
       "      <td>0</td>\n",
       "      <td>1</td>\n",
       "      <td>0</td>\n",
       "      <td>1</td>\n",
       "      <td>0</td>\n",
       "      <td>0</td>\n",
       "      <td>0</td>\n",
       "      <td>0</td>\n",
       "      <td>...</td>\n",
       "      <td>2</td>\n",
       "      <td>0</td>\n",
       "      <td>1</td>\n",
       "      <td>0</td>\n",
       "      <td>1</td>\n",
       "      <td>0</td>\n",
       "      <td>0</td>\n",
       "      <td>1</td>\n",
       "      <td>0</td>\n",
       "      <td>0</td>\n",
       "    </tr>\n",
       "    <tr>\n",
       "      <th>doc_sai</th>\n",
       "      <td>1</td>\n",
       "      <td>0</td>\n",
       "      <td>0</td>\n",
       "      <td>0</td>\n",
       "      <td>0</td>\n",
       "      <td>0</td>\n",
       "      <td>1</td>\n",
       "      <td>0</td>\n",
       "      <td>0</td>\n",
       "      <td>0</td>\n",
       "      <td>...</td>\n",
       "      <td>0</td>\n",
       "      <td>0</td>\n",
       "      <td>0</td>\n",
       "      <td>0</td>\n",
       "      <td>0</td>\n",
       "      <td>0</td>\n",
       "      <td>0</td>\n",
       "      <td>0</td>\n",
       "      <td>0</td>\n",
       "      <td>0</td>\n",
       "    </tr>\n",
       "  </tbody>\n",
       "</table>\n",
       "<p>4 rows × 29 columns</p>\n",
       "</div>"
      ],
      "text/plain": [
       "              ai  career  claimed  earlier  election  elections  engineer  \\\n",
       "doc_trump      0       0        0        0         1          0         0   \n",
       "doc_election   0       0        1        0         2          0         0   \n",
       "doc_putin      0       1        0        1         0          1         0   \n",
       "doc_sai        1       0        0        0         0          0         1   \n",
       "\n",
       "              friend  friends  interference  ...  putin  republican  russia  \\\n",
       "doc_trump          0        2             0  ...      1           1       0   \n",
       "doc_election       1        0             1  ...      2           0       0   \n",
       "doc_putin          0        0             0  ...      2           0       1   \n",
       "doc_sai            0        0             0  ...      0           0       0   \n",
       "\n",
       "              says  served  support  trump  vladimir  winning  witchhunt  \n",
       "doc_trump        0       0        1      2         0        1          0  \n",
       "doc_election     2       0        0      1         0        0          1  \n",
       "doc_putin        0       1        0      0         1        0          0  \n",
       "doc_sai          0       0        0      0         0        0          0  \n",
       "\n",
       "[4 rows x 29 columns]"
      ]
     },
     "execution_count": 37,
     "metadata": {},
     "output_type": "execute_result"
    }
   ],
   "source": [
    "df"
   ]
  },
  {
   "cell_type": "code",
   "execution_count": 38,
   "id": "6e854db4",
   "metadata": {},
   "outputs": [
    {
     "name": "stdout",
     "output_type": "stream",
     "text": [
      "[[1.         0.51639778 0.36893239 0.        ]\n",
      " [0.51639778 1.         0.45360921 0.        ]\n",
      " [0.36893239 0.45360921 1.         0.        ]\n",
      " [0.         0.         0.         1.        ]]\n"
     ]
    }
   ],
   "source": [
    "print(cosine_similarity(df,df))"
   ]
  }
 ],
 "metadata": {
  "kernelspec": {
   "display_name": "Python 3",
   "language": "python",
   "name": "python3"
  },
  "language_info": {
   "codemirror_mode": {
    "name": "ipython",
    "version": 3
   },
   "file_extension": ".py",
   "mimetype": "text/x-python",
   "name": "python",
   "nbconvert_exporter": "python",
   "pygments_lexer": "ipython3",
   "version": "3.9.5"
  }
 },
 "nbformat": 4,
 "nbformat_minor": 5
}
