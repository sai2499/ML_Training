{
 "cells": [
  {
   "cell_type": "markdown",
   "id": "73d6fe12",
   "metadata": {},
   "source": [
    "**NER (Named Entity Recognition)**"
   ]
  },
  {
   "cell_type": "code",
   "execution_count": 5,
   "id": "28728944",
   "metadata": {},
   "outputs": [
    {
     "name": "stderr",
     "output_type": "stream",
     "text": [
      "[nltk_data] Downloading package maxent_ne_chunker to\n",
      "[nltk_data]     C:\\Users\\Saina\\AppData\\Roaming\\nltk_data...\n",
      "[nltk_data]   Package maxent_ne_chunker is already up-to-date!\n",
      "[nltk_data] Downloading package words to\n",
      "[nltk_data]     C:\\Users\\Saina\\AppData\\Roaming\\nltk_data...\n",
      "[nltk_data]   Unzipping corpora\\words.zip.\n"
     ]
    },
    {
     "data": {
      "text/plain": [
       "True"
      ]
     },
     "execution_count": 5,
     "metadata": {},
     "output_type": "execute_result"
    }
   ],
   "source": [
    "import nltk\n",
    "nltk.download('maxent_ne_chunker')\n",
    "nltk.download('words')"
   ]
  },
  {
   "cell_type": "code",
   "execution_count": 9,
   "id": "3290dce5",
   "metadata": {},
   "outputs": [
    {
     "name": "stdout",
     "output_type": "stream",
     "text": [
      "(S\n",
      "  (GPE India/NNP)\n",
      "  ,/,\n",
      "  officially/RB\n",
      "  the/DT\n",
      "  (ORGANIZATION Republic/NNP)\n",
      "  of/IN\n",
      "  (GPE India/NNP)\n",
      "  ,/,\n",
      "  is/VBZ\n",
      "  country/NN\n",
      "  in/IN\n",
      "  (GPE South/NNP Africa/NNP)\n",
      "  ,/,\n",
      "  June/NNP\n",
      "  ,/,\n",
      "  11th/CD\n",
      "  May/NNP)\n"
     ]
    }
   ],
   "source": [
    "sent = \"India, officially the Republic of India, is country in South Africa, June, 11th May\"\n",
    "#Step1 tokenize\n",
    "words = nltk.word_tokenize(sent)\n",
    "\n",
    "#Step 2 find pos_tag\n",
    "pos_tag = nltk.pos_tag(words)\n",
    "\n",
    "#Step3 named Entity\n",
    "name_entity = nltk.ne_chunk(pos_tag)\n",
    "print(name_entity)\n",
    "name_entity.draw()"
   ]
  },
  {
   "cell_type": "markdown",
   "id": "b9891710",
   "metadata": {},
   "source": [
    "# Freq Distributor"
   ]
  },
  {
   "cell_type": "markdown",
   "id": "5d6d890b",
   "metadata": {},
   "source": [
    "This is basically counting words in your text. \n",
    "The class FreqDist  works like a dictionary where the keys are the words in the text and the values are the count associated with that word. For example, if you want to see how many words “man” are in the text, you can type:"
   ]
  },
  {
   "cell_type": "code",
   "execution_count": 11,
   "id": "a982b5bc",
   "metadata": {},
   "outputs": [
    {
     "name": "stdout",
     "output_type": "stream",
     "text": [
      "<FreqDist with 14 samples and 18 outcomes>\n",
      "2\n"
     ]
    }
   ],
   "source": [
    "from nltk import FreqDist\n",
    "\n",
    "words = nltk.word_tokenize(sent)\n",
    "freq = FreqDist(words)\n",
    "print(freq)\n",
    "print(freq[\"India\"])"
   ]
  },
  {
   "cell_type": "code",
   "execution_count": 12,
   "id": "4ddfec8e",
   "metadata": {},
   "outputs": [
    {
     "data": {
      "image/png": "[encoded data removed]",
      "text/plain": [
       "<Figure size 432x288 with 1 Axes>"
      ]
     },
     "metadata": {
      "needs_background": "light"
     },
     "output_type": "display_data"
    },
    {
     "data": {
      "text/plain": [
       "<AxesSubplot:xlabel='Samples', ylabel='Counts'>"
      ]
     },
     "execution_count": 12,
     "metadata": {},
     "output_type": "execute_result"
    }
   ],
   "source": [
    "freq.plot()"
   ]
  },
  {
   "cell_type": "markdown",
   "id": "6986b658",
   "metadata": {},
   "source": [
    "## TextBlob"
   ]
  },
  {
   "cell_type": "code",
   "execution_count": 13,
   "id": "c5beb1a8",
   "metadata": {
    "scrolled": true
   },
   "outputs": [
    {
     "name": "stdout",
     "output_type": "stream",
     "text": [
      "Collecting textblob\n",
      "  Downloading textblob-0.17.1-py2.py3-none-any.whl (636 kB)\n",
      "Requirement already satisfied: nltk>=3.1 in c:\\users\\saina\\appdata\\local\\programs\\python\\python39\\lib\\site-packages (from textblob) (3.7)\n",
      "Requirement already satisfied: regex>=2021.8.3 in c:\\users\\saina\\appdata\\local\\programs\\python\\python39\\lib\\site-packages (from nltk>=3.1->textblob) (2022.6.2)\n",
      "Requirement already satisfied: click in c:\\users\\saina\\appdata\\local\\programs\\python\\python39\\lib\\site-packages (from nltk>=3.1->textblob) (8.1.3)\n",
      "Requirement already satisfied: joblib in c:\\users\\saina\\appdata\\roaming\\python\\python39\\site-packages (from nltk>=3.1->textblob) (1.0.1)"
     ]
    },
    {
     "name": "stderr",
     "output_type": "stream",
     "text": [
      "WARNING: You are using pip version 21.3.1; however, version 22.1.2 is available.\n",
      "You should consider upgrading via the 'c:\\users\\saina\\appdata\\local\\programs\\python\\python39\\python.exe -m pip install --upgrade pip' command.\n"
     ]
    },
    {
     "name": "stdout",
     "output_type": "stream",
     "text": [
      "\n",
      "Requirement already satisfied: tqdm in c:\\users\\saina\\appdata\\local\\programs\\python\\python39\\lib\\site-packages (from nltk>=3.1->textblob) (4.64.0)\n",
      "Requirement already satisfied: colorama in c:\\users\\saina\\appdata\\roaming\\python\\python39\\site-packages (from click->nltk>=3.1->textblob) (0.4.4)\n",
      "Installing collected packages: textblob\n",
      "Successfully installed textblob-0.17.1\n"
     ]
    }
   ],
   "source": [
    "#install\n",
    "!pip install textblob"
   ]
  },
  {
   "cell_type": "code",
   "execution_count": 14,
   "id": "e134a12c",
   "metadata": {},
   "outputs": [
    {
     "name": "stdout",
     "output_type": "stream",
     "text": [
      "Finished.\n"
     ]
    },
    {
     "name": "stderr",
     "output_type": "stream",
     "text": [
      "[nltk_data] Downloading package brown to\n",
      "[nltk_data]     C:\\Users\\Saina\\AppData\\Roaming\\nltk_data...\n",
      "[nltk_data]   Unzipping corpora\\brown.zip.\n",
      "[nltk_data] Downloading package punkt to\n",
      "[nltk_data]     C:\\Users\\Saina\\AppData\\Roaming\\nltk_data...\n",
      "[nltk_data]   Package punkt is already up-to-date!\n",
      "[nltk_data] Downloading package wordnet to\n",
      "[nltk_data]     C:\\Users\\Saina\\AppData\\Roaming\\nltk_data...\n",
      "[nltk_data]   Package wordnet is already up-to-date!\n",
      "[nltk_data] Downloading package averaged_perceptron_tagger to\n",
      "[nltk_data]     C:\\Users\\Saina\\AppData\\Roaming\\nltk_data...\n",
      "[nltk_data]   Package averaged_perceptron_tagger is already up-to-\n",
      "[nltk_data]       date!\n",
      "[nltk_data] Downloading package conll2000 to\n",
      "[nltk_data]     C:\\Users\\Saina\\AppData\\Roaming\\nltk_data...\n",
      "[nltk_data]   Unzipping corpora\\conll2000.zip.\n",
      "[nltk_data] Downloading package movie_reviews to\n",
      "[nltk_data]     C:\\Users\\Saina\\AppData\\Roaming\\nltk_data...\n",
      "[nltk_data]   Unzipping corpora\\movie_reviews.zip.\n"
     ]
    }
   ],
   "source": [
    "#Download - model named download_corpora is a model we will be using\n",
    "!python -m textblob.download_corpora"
   ]
  },
  {
   "cell_type": "code",
   "execution_count": 16,
   "id": "377d9ef9",
   "metadata": {},
   "outputs": [],
   "source": [
    "#import\n",
    "from textblob import TextBlob"
   ]
  },
  {
   "cell_type": "code",
   "execution_count": 36,
   "id": "2353d358",
   "metadata": {},
   "outputs": [],
   "source": [
    "text = TextBlob(\"Data is a new fuel? Simple is better than complex\")"
   ]
  },
  {
   "cell_type": "code",
   "execution_count": 37,
   "id": "02e9d63b",
   "metadata": {},
   "outputs": [
    {
     "data": {
      "text/plain": [
       "WordList(['Data', 'is', 'a', 'new', 'fuel', 'Simple', 'is', 'better', 'than', 'complex'])"
      ]
     },
     "execution_count": 37,
     "metadata": {},
     "output_type": "execute_result"
    }
   ],
   "source": [
    "#Word Tokenization\n",
    "text.words"
   ]
  },
  {
   "cell_type": "code",
   "execution_count": 38,
   "id": "43c7071f",
   "metadata": {},
   "outputs": [
    {
     "data": {
      "text/plain": [
       "[Sentence(\"Data is a new fuel?\"), Sentence(\"Simple is better than complex\")]"
      ]
     },
     "execution_count": 38,
     "metadata": {},
     "output_type": "execute_result"
    }
   ],
   "source": [
    "#Senetence TOkenization\n",
    "text.sentences"
   ]
  },
  {
   "cell_type": "code",
   "execution_count": 39,
   "id": "ff5f68b5",
   "metadata": {},
   "outputs": [
    {
     "name": "stdout",
     "output_type": "stream",
     "text": [
      "Data is a new fuel?\n",
      "Simple is better than complex\n"
     ]
    }
   ],
   "source": [
    "for sentence in text.sentences:\n",
    "    print(sentence)"
   ]
  },
  {
   "cell_type": "code",
   "execution_count": 40,
   "id": "d7f60cf2",
   "metadata": {},
   "outputs": [
    {
     "data": {
      "text/plain": [
       "[('Data', 'NNP'),\n",
       " ('is', 'VBZ'),\n",
       " ('a', 'DT'),\n",
       " ('new', 'JJ'),\n",
       " ('fuel', 'NN'),\n",
       " ('Simple', 'NN'),\n",
       " ('is', 'VBZ'),\n",
       " ('better', 'JJR'),\n",
       " ('than', 'IN'),\n",
       " ('complex', 'JJ')]"
      ]
     },
     "execution_count": 40,
     "metadata": {},
     "output_type": "execute_result"
    }
   ],
   "source": [
    "#part of speech tagging\n",
    "text.tags"
   ]
  },
  {
   "cell_type": "code",
   "execution_count": 31,
   "id": "cb631790",
   "metadata": {},
   "outputs": [
    {
     "data": {
      "text/plain": [
       "WordList(['data', 'new fuel', 'simple'])"
      ]
     },
     "execution_count": 31,
     "metadata": {},
     "output_type": "execute_result"
    }
   ],
   "source": [
    "#Noun Phrase extraction\n",
    "text.noun_phrases"
   ]
  },
  {
   "cell_type": "code",
   "execution_count": 42,
   "id": "91daf64e",
   "metadata": {},
   "outputs": [
    {
     "data": {
      "text/plain": [
       "WordList(['Use', '4', 'spaces', 'per', 'indentation', 'level'])"
      ]
     },
     "execution_count": 42,
     "metadata": {},
     "output_type": "execute_result"
    }
   ],
   "source": [
    "# Word Inflection : Convert word from singular to plural\n",
    "sentence = TextBlob(\"Use 4 spaces per indentation level\")\n",
    "sentence.words"
   ]
  },
  {
   "cell_type": "code",
   "execution_count": 45,
   "id": "7ff43f00",
   "metadata": {},
   "outputs": [
    {
     "data": {
      "text/plain": [
       "'space'"
      ]
     },
     "execution_count": 45,
     "metadata": {},
     "output_type": "execute_result"
    }
   ],
   "source": [
    "sentence.words[2].singularize()"
   ]
  },
  {
   "cell_type": "code",
   "execution_count": 46,
   "id": "7951e47f",
   "metadata": {},
   "outputs": [
    {
     "data": {
      "text/plain": [
       "'indentations'"
      ]
     },
     "execution_count": 46,
     "metadata": {},
     "output_type": "execute_result"
    }
   ],
   "source": [
    "sentence.words[4].pluralize()"
   ]
  },
  {
   "cell_type": "code",
   "execution_count": 49,
   "id": "9c7634ee",
   "metadata": {},
   "outputs": [],
   "source": [
    "#Stemming and Lemmatization\n",
    "from textblob import Word"
   ]
  },
  {
   "cell_type": "code",
   "execution_count": 52,
   "id": "7532cd74",
   "metadata": {},
   "outputs": [
    {
     "data": {
      "text/plain": [
       "'History'"
      ]
     },
     "execution_count": 52,
     "metadata": {},
     "output_type": "execute_result"
    }
   ],
   "source": [
    "q = Word(\"History\")\n",
    "q.lemmatize(pos = \"v\")"
   ]
  },
  {
   "cell_type": "code",
   "execution_count": 51,
   "id": "c1849c5c",
   "metadata": {},
   "outputs": [
    {
     "data": {
      "text/plain": [
       "'histori'"
      ]
     },
     "execution_count": 51,
     "metadata": {},
     "output_type": "execute_result"
    }
   ],
   "source": [
    "q = Word(\"History\")\n",
    "q.stem()"
   ]
  },
  {
   "cell_type": "code",
   "execution_count": 53,
   "id": "27f3d5e9",
   "metadata": {},
   "outputs": [
    {
     "data": {
      "text/plain": [
       "'run'"
      ]
     },
     "execution_count": 53,
     "metadata": {},
     "output_type": "execute_result"
    }
   ],
   "source": [
    "q = Word('run')\n",
    "q.lemmatize('v')"
   ]
  },
  {
   "cell_type": "code",
   "execution_count": 54,
   "id": "5c5b40c3",
   "metadata": {},
   "outputs": [
    {
     "data": {
      "text/plain": [
       "'run'"
      ]
     },
     "execution_count": 54,
     "metadata": {},
     "output_type": "execute_result"
    }
   ],
   "source": [
    "q = Word(\"running\")\n",
    "q.lemmatize(\"v\")"
   ]
  },
  {
   "cell_type": "code",
   "execution_count": 65,
   "id": "a04b74c4",
   "metadata": {},
   "outputs": [
    {
     "data": {
      "text/plain": [
       "TextBlob(\"can you pronounce czechoslovakia\")"
      ]
     },
     "execution_count": 65,
     "metadata": {},
     "output_type": "execute_result"
    }
   ],
   "source": [
    "#Spelling Correction\n",
    "\n",
    "g = TextBlob(\"Can you pronounce csechoslovakia\")\n",
    "g.lower().correct()"
   ]
  },
  {
   "cell_type": "code",
   "execution_count": 60,
   "id": "766b7851",
   "metadata": {},
   "outputs": [
    {
     "data": {
      "text/plain": [
       "TextBlob(\"what is the longitude\")"
      ]
     },
     "execution_count": 60,
     "metadata": {},
     "output_type": "execute_result"
    }
   ],
   "source": [
    "g = TextBlob(\"what is the longitude\")\n",
    "g.correct()"
   ]
  },
  {
   "cell_type": "code",
   "execution_count": 62,
   "id": "c7dc4b71",
   "metadata": {},
   "outputs": [
    {
     "data": {
      "text/plain": [
       "[('let', 0.9902152641878669),\n",
       " ('fret', 0.007827788649706457),\n",
       " ('cret', 0.0019569471624266144)]"
      ]
     },
     "execution_count": 62,
     "metadata": {},
     "output_type": "execute_result"
    }
   ],
   "source": [
    "k = Word(\"lret\")\n",
    "k.spellcheck()"
   ]
  },
  {
   "cell_type": "code",
   "execution_count": 64,
   "id": "a4d58c14",
   "metadata": {},
   "outputs": [
    {
     "data": {
      "text/plain": [
       "[('That', 0.8001534821257275),\n",
       " ('What', 0.1925561169022191),\n",
       " ('Hat', 0.006714843000575558),\n",
       " ('Chat', 0.0005755579714779049)]"
      ]
     },
     "execution_count": 64,
     "metadata": {},
     "output_type": "execute_result"
    }
   ],
   "source": [
    "k = Word('What')\n",
    "k.spellcheck()"
   ]
  },
  {
   "cell_type": "code",
   "execution_count": 73,
   "id": "83f3d257",
   "metadata": {},
   "outputs": [
    {
     "name": "stdout",
     "output_type": "stream",
     "text": [
      "TextBlob डेवलपर्स के लिए एक महान उपकरण है\n"
     ]
    }
   ],
   "source": [
    "#Translation\n",
    "blob = TextBlob('TextBlob is a great tool for developers')\n",
    "print(blob.translate(from_lang='en',to='hi'))"
   ]
  },
  {
   "cell_type": "code",
   "execution_count": 74,
   "id": "9e40379d",
   "metadata": {},
   "outputs": [
    {
     "data": {
      "text/plain": [
       "TextBlob(\"TEXTBLOB IS A GREAT TOOL FOR DEVELOPERS\")"
      ]
     },
     "execution_count": 74,
     "metadata": {},
     "output_type": "execute_result"
    }
   ],
   "source": [
    "#TextBlob are llike python strign all operations required can be performed using the Textblob which can be performed using string\n",
    "blob = TextBlob('TextBlob is a great tool for developers')\n",
    "blob.upper()"
   ]
  },
  {
   "cell_type": "code",
   "execution_count": 75,
   "id": "ff61bd29",
   "metadata": {},
   "outputs": [
    {
     "name": "stdout",
     "output_type": "stream",
     "text": [
      "['election commission', 'assam', 'bjp', 'biswa sarma']\n"
     ]
    }
   ],
   "source": [
    "#Text Summarization\n",
    "text3 = \"The Election Commission on Friday debarred Assam Minister and BJP leader Biswa Sarma from campaiging.\"\n",
    "blob = TextBlob(text3)\n",
    "print(blob.noun_phrases)"
   ]
  },
  {
   "cell_type": "code",
   "execution_count": null,
   "id": "dff641b8",
   "metadata": {},
   "outputs": [],
   "source": [
    "#Build Text Classification System\n",
    "train= [\n",
    "    ('I love this sandwich.','pos'),\n",
    "    ('this is an amazing place!','pos'),\n",
    "    ('Ifeel very good about these beers.','pos'),\n",
    "    ('this is my best work.','pos'),\n",
    "    (\"what an awesome view\",'pos'),\n",
    "    ('Ido not like this restaurant','neg'),\n",
    "    ('Iam tired of this stuff.','neg'),\n",
    "    (\"Ican't deal with this\",'neg'),\n",
    "     ('he is my sworn enemy!','neg')\n",
    "]\n",
    "     \n",
    "\n",
    "test = [\n",
    "    ('my boss is horrible.','neg'),\n",
    "    ('the beer was good.','pos'),\n",
    "    ('Ido not enjoy my job','neg'),\n",
    "    (\"Iain't feeling dandy today.\",'neg'),\n",
    "    (\"Ifeel amazing!\",'pos'),\n",
    "    ('Gary isafriend of mine.','pos'),\n",
    "    (\"Ican't believe I'm doing this.\",'neg')\n",
    "]"
   ]
  },
  {
   "cell_type": "code",
   "execution_count": 76,
   "id": "7048e305",
   "metadata": {},
   "outputs": [
    {
     "ename": "FileNotFoundError",
     "evalue": "[Errno 2] No such file or directory: 'train.csv'",
     "output_type": "error",
     "traceback": [
      "\u001b[1;31m---------------------------------------------------------------------------\u001b[0m",
      "\u001b[1;31mFileNotFoundError\u001b[0m                         Traceback (most recent call last)",
      "\u001b[1;32m<ipython-input-76-273f0a7f2953>\u001b[0m in \u001b[0;36m<module>\u001b[1;34m\u001b[0m\n\u001b[1;32m----> 1\u001b[1;33m \u001b[1;32mwith\u001b[0m \u001b[0mopen\u001b[0m\u001b[1;33m(\u001b[0m\u001b[1;34m'train.csv'\u001b[0m\u001b[1;33m,\u001b[0m\u001b[1;34m'r'\u001b[0m\u001b[1;33m)\u001b[0m \u001b[1;32mas\u001b[0m \u001b[0mfp\u001b[0m\u001b[1;33m:\u001b[0m\u001b[1;33m\u001b[0m\u001b[1;33m\u001b[0m\u001b[0m\n\u001b[0m\u001b[0;32m      2\u001b[0m     \u001b[0mcl\u001b[0m \u001b[1;33m=\u001b[0m \u001b[0mNaiveBayesClassifier\u001b[0m\u001b[1;33m(\u001b[0m\u001b[0mfp\u001b[0m\u001b[1;33m,\u001b[0m \u001b[0mformat\u001b[0m\u001b[1;33m=\u001b[0m\u001b[1;34m\"csv\"\u001b[0m\u001b[1;33m)\u001b[0m\u001b[1;33m\u001b[0m\u001b[1;33m\u001b[0m\u001b[0m\n",
      "\u001b[1;31mFileNotFoundError\u001b[0m: [Errno 2] No such file or directory: 'train.csv'"
     ]
    }
   ],
   "source": [
    "with open('train.csv','r') as fp:\n",
    "    cl = NaiveBayesClassifier(fp, format=\"csv\")"
   ]
  },
  {
   "cell_type": "code",
   "execution_count": null,
   "id": "be589647",
   "metadata": {},
   "outputs": [],
   "source": [
    "cl.classify('I do not Enjoy')"
   ]
  },
  {
   "cell_type": "code",
   "execution_count": null,
   "id": "ec8fd4ce",
   "metadata": {},
   "outputs": [],
   "source": [
    "cl.accuracy(test)"
   ]
  },
  {
   "cell_type": "code",
   "execution_count": null,
   "id": "2124e8ec",
   "metadata": {},
   "outputs": [],
   "source": [
    "new_data =  [\n",
    "    ('my boss is horrible.','neg'),\n",
    "    ('the beer was good.','pos'),\n",
    "    ('Ido not enjoy my job','neg'),\n",
    "    (\"Iain't feeling dandy today.\",'neg'),\n",
    "    (\"Ifeel amazing!\",'pos'),\n",
    "    ('Gary isafriend of mine.','pos'),\n",
    "    (\"Ican't believe I'm doing this.\",'neg')\n",
    "]\n",
    "cl.update(new_data) #update and retrain the model with the new data"
   ]
  },
  {
   "cell_type": "code",
   "execution_count": null,
   "id": "ee925220",
   "metadata": {},
   "outputs": [],
   "source": []
  }
 ],
 "metadata": {
  "kernelspec": {
   "display_name": "Python 3",
   "language": "python",
   "name": "python3"
  },
  "language_info": {
   "codemirror_mode": {
    "name": "ipython",
    "version": 3
   },
   "file_extension": ".py",
   "mimetype": "text/x-python",
   "name": "python",
   "nbconvert_exporter": "python",
   "pygments_lexer": "ipython3",
   "version": "3.9.5"
  }
 },
 "nbformat": 4,
 "nbformat_minor": 5
}
