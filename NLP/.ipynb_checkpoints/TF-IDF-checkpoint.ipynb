{
 "cells": [
  {
   "cell_type": "code",
   "execution_count": null,
   "id": "a022d310",
   "metadata": {},
   "outputs": [],
   "source": [
    "#https://www.capitalone.com/tech/machine-learning/understanding-tf-idf/"
   ]
  },
  {
   "cell_type": "code",
   "execution_count": 6,
   "id": "12afe4fb",
   "metadata": {},
   "outputs": [],
   "source": [
    "paragraph = \"\"\"I have three visions for India.\n",
    "In 3000 years of our history, people from allover the world have come and invaded us, captured our lands, \n",
    "conquered our minds. From Alexander onwards. The Greeks, the Portuguese, the British, the French, the Dutch, \n",
    "all of them came and looted us, took over what was ours. Yet we have not done this to any other nation. \n",
    "We have not conquered anyone. We have not grabbed their land, their culture, \n",
    "their history tried to enforce our way of life on them. Why? Because we respect the freedom of others.\n",
    "I believe that India got its first vision of this in 1857, when we started the war of independence. It is this freedom that we must protect and nurture and built on. If we are not free, no one will respect us.\n",
    "My second vision for India is DEVELOPMENT.\n",
    "For fifty years we have been a developing nation. \n",
    "It is time we see ourselves as a developed nation. We are among top 5 nations of the world in terms of GDP. \n",
    "We have 10 percent growth rate in most areas. Our poverty levels are falling, \n",
    "our achievements are being globally recognized today. Yet we lack the self-confidence to see ourselves as a developed nation, \n",
    "self reliant and self assured. Isn't this right?\n",
    "I have a third vision. The India must stand up to the world. \n",
    "Because I believe that unless India stands up to the world, no one will respect us. \n",
    "Only strength respects strength. We must be strong not only as a military power but also as an economic power. \n",
    "Both must go hand-in-hand.\n",
    "My good fortune was to have work with three great minds. \n",
    "Dr Vikram Sarabhai of the Dept. of space, Professor Satish Dhawan, who succeeded him, and Dr.Brahm Prakash, father of nuclear material. \n",
    "I was lucky to have worked with all three of them closely and consider this the great opportunity of my life.\n",
    "I see four milestones in my careeer\"\"\""
   ]
  },
  {
   "cell_type": "code",
   "execution_count": 1,
   "id": "a03eaecc",
   "metadata": {},
   "outputs": [],
   "source": [
    "import nltk\n",
    "from nltk.corpus import stopwords\n",
    "from nltk.stem.porter import PorterStemmer\n",
    "from nltk.stem import WordNetLemmatizer"
   ]
  },
  {
   "cell_type": "code",
   "execution_count": 4,
   "id": "85069d6a",
   "metadata": {},
   "outputs": [],
   "source": [
    "ps = PorterStemmer()\n",
    "wordnet = WordNetLemmatizer()"
   ]
  },
  {
   "cell_type": "code",
   "execution_count": 13,
   "id": "6ed3bce9",
   "metadata": {},
   "outputs": [
    {
     "name": "stdout",
     "output_type": "stream",
     "text": [
      "['I have three visions for India.', 'In 3000 years of our history, people from allover the world have come and invaded us, captured our lands, \\nconquered our minds.', 'From Alexander onwards.', 'The Greeks, the Portuguese, the British, the French, the Dutch, \\nall of them came and looted us, took over what was ours.', 'Yet we have not done this to any other nation.', 'We have not conquered anyone.', 'We have not grabbed their land, their culture, \\ntheir history tried to enforce our way of life on them.', 'Why?', 'Because we respect the freedom of others.', 'I believe that India got its first vision of this in 1857, when we started the war of independence.', 'It is this freedom that we must protect and nurture and built on.', 'If we are not free, no one will respect us.', 'My second vision for India is DEVELOPMENT.', 'For fifty years we have been a developing nation.', 'It is time we see ourselves as a developed nation.', 'We are among top 5 nations of the world in terms of GDP.', 'We have 10 percent growth rate in most areas.', 'Our poverty levels are falling, \\nour achievements are being globally recognized today.', 'Yet we lack the self-confidence to see ourselves as a developed nation, \\nself reliant and self assured.', \"Isn't this right?\", 'I have a third vision.', 'The India must stand up to the world.', 'Because I believe that unless India stands up to the world, no one will respect us.', 'Only strength respects strength.', 'We must be strong not only as a military power but also as an economic power.', 'Both must go hand-in-hand.', 'My good fortune was to have work with three great minds.', 'Dr Vikram Sarabhai of the Dept.', 'of space, Professor Satish Dhawan, who succeeded him, and Dr.Brahm Prakash, father of nuclear material.', 'I was lucky to have worked with all three of them closely and consider this the great opportunity of my life.', 'I see four milestones in my careeer']\n"
     ]
    }
   ],
   "source": [
    "sentences = nltk.sent_tokenize(paragraph)\n",
    "print(sentences)"
   ]
  },
  {
   "cell_type": "code",
   "execution_count": 15,
   "id": "3a611ee0",
   "metadata": {},
   "outputs": [],
   "source": [
    "'''\n",
    "Lowercase\n",
    "Word tokenize\n",
    "remove stopwords\n",
    "stem or lemmatize\n",
    "'''\n",
    "corpus = []\n",
    "for sent in sentences:\n",
    "    review = sent.lower()\n",
    "    review = review.split() #have to use word tokenization here\n",
    "    review = [ps.stem(word)for word in review if not word in set(stopwords.words('english'))]\n",
    "    review = \" \".join(review)\n",
    "    corpus.append(review)"
   ]
  },
  {
   "cell_type": "code",
   "execution_count": 16,
   "id": "b0d9a55c",
   "metadata": {},
   "outputs": [
    {
     "name": "stdout",
     "output_type": "stream",
     "text": [
      "['three vision india.', '3000 year history, peopl allov world come invad us, captur lands, conquer minds.', 'alexand onwards.', 'greeks, portuguese, british, french, dutch, came loot us, took ours.', 'yet done nation.', 'conquer anyone.', 'grab land, culture, histori tri enforc way life them.', 'why?', 'respect freedom others.', 'believ india got first vision 1857, start war independence.', 'freedom must protect nurtur built on.', 'free, one respect us.', 'second vision india development.', 'fifti year develop nation.', 'time see develop nation.', 'among top 5 nation world term gdp.', '10 percent growth rate areas.', 'poverti level falling, achiev global recogn today.', 'yet lack self-confid see develop nation, self reliant self assured.', 'right?', 'third vision.', 'india must stand world.', 'believ unless india stand world, one respect us.', 'strength respect strength.', 'must strong militari power also econom power.', 'must go hand-in-hand.', 'good fortun work three great minds.', 'dr vikram sarabhai dept.', 'space, professor satish dhawan, succeed him, dr.brahm prakash, father nuclear material.', 'lucki work three close consid great opportun life.', 'see four mileston careeer']\n"
     ]
    }
   ],
   "source": [
    "print(corpus)"
   ]
  },
  {
   "cell_type": "code",
   "execution_count": 18,
   "id": "7611343e",
   "metadata": {},
   "outputs": [
    {
     "name": "stdout",
     "output_type": "stream",
     "text": [
      "[[0 0 0 ... 0 0 0]\n",
      " [0 0 1 ... 1 1 0]\n",
      " [0 0 0 ... 0 0 0]\n",
      " ...\n",
      " [0 0 0 ... 0 0 0]\n",
      " [0 0 0 ... 0 0 0]\n",
      " [0 0 0 ... 0 0 0]]\n"
     ]
    }
   ],
   "source": [
    "from sklearn.feature_extraction.text import CountVectorizer #Library for bag of words\n",
    "cv = CountVectorizer()\n",
    "x = cv.fit_transform(corpus).toarray()\n",
    "#The fit method is calculating the mean and variance of each of the features present in our data. The transform method is transforming all the features using the respective mean and variance.\n",
    "print(x)"
   ]
  },
  {
   "cell_type": "code",
   "execution_count": 19,
   "id": "0afae07c",
   "metadata": {},
   "outputs": [],
   "source": [
    "from sklearn.feature_extraction.text import TfidfVectorizer\n",
    "tf = TfidfVectorizer()\n",
    "x_tf = tf.fit_transform(corpus).toarray()"
   ]
  },
  {
   "cell_type": "code",
   "execution_count": 20,
   "id": "d456c270",
   "metadata": {},
   "outputs": [
    {
     "data": {
      "text/plain": [
       "array([[0.        , 0.        , 0.        , ..., 0.        , 0.        ,\n",
       "        0.        ],\n",
       "       [0.        , 0.        , 0.29442022, ..., 0.2229111 , 0.26277693,\n",
       "        0.        ],\n",
       "       [0.        , 0.        , 0.        , ..., 0.        , 0.        ,\n",
       "        0.        ],\n",
       "       ...,\n",
       "       [0.        , 0.        , 0.        , ..., 0.        , 0.        ,\n",
       "        0.        ],\n",
       "       [0.        , 0.        , 0.        , ..., 0.        , 0.        ,\n",
       "        0.        ],\n",
       "       [0.        , 0.        , 0.        , ..., 0.        , 0.        ,\n",
       "        0.        ]])"
      ]
     },
     "execution_count": 20,
     "metadata": {},
     "output_type": "execute_result"
    }
   ],
   "source": [
    "x_tf"
   ]
  },
  {
   "cell_type": "code",
   "execution_count": null,
   "id": "db31e534",
   "metadata": {},
   "outputs": [],
   "source": []
  }
 ],
 "metadata": {
  "kernelspec": {
   "display_name": "Python 3",
   "language": "python",
   "name": "python3"
  },
  "language_info": {
   "codemirror_mode": {
    "name": "ipython",
    "version": 3
   },
   "file_extension": ".py",
   "mimetype": "text/x-python",
   "name": "python",
   "nbconvert_exporter": "python",
   "pygments_lexer": "ipython3",
   "version": "3.9.5"
  }
 },
 "nbformat": 4,
 "nbformat_minor": 5
}
