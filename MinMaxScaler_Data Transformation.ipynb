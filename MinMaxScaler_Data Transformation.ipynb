{
 "cells": [
  {
   "cell_type": "code",
   "execution_count": 1,
   "id": "e0069e05",
   "metadata": {},
   "outputs": [
    {
     "name": "stdout",
     "output_type": "stream",
     "text": [
      "(426, 30)\n",
      "(143, 30)\n"
     ]
    }
   ],
   "source": [
    "from sklearn.datasets import load_breast_cancer\n",
    "from sklearn.model_selection import train_test_split\n",
    "\n",
    "cancer = load_breast_cancer()\n",
    "\n",
    "X_train, X_test, y_train, Y_test =  train_test_split(cancer.data, cancer.target, random_state = 1)\n",
    "print(X_train.shape)\n",
    "print(X_test.shape)"
   ]
  },
  {
   "cell_type": "code",
   "execution_count": 2,
   "id": "0dfc9888",
   "metadata": {},
   "outputs": [
    {
     "data": {
      "text/plain": [
       "MinMaxScaler()"
      ]
     },
     "execution_count": 2,
     "metadata": {},
     "output_type": "execute_result"
    }
   ],
   "source": [
    "from sklearn.preprocessing import MinMaxScaler\n",
    "scaler = MinMaxScaler()\n",
    "scaler.fit(X_train)\n",
    "#The fit method computes the min and max value of each feature on the training set. We only pass X_train to fit and not\n",
    "# y train "
   ]
  },
  {
   "cell_type": "code",
   "execution_count": 3,
   "id": "3f01e10d",
   "metadata": {},
   "outputs": [
    {
     "data": {
      "text/plain": [
       "MinMaxScaler()"
      ]
     },
     "execution_count": 3,
     "metadata": {},
     "output_type": "execute_result"
    }
   ],
   "source": [
    "MinMaxScaler(copy = True, feature_range=(0, 1))\n",
    "#We have applied the scaling, now to actually scale the training data we use the transform method of the scaler. \n",
    "#Tranform method is used whenever a new representation of the data is returned by the model."
   ]
  },
  {
   "cell_type": "code",
   "execution_count": 4,
   "id": "332c4f5a",
   "metadata": {},
   "outputs": [
    {
     "name": "stdout",
     "output_type": "stream",
     "text": [
      "Tranformed shape:  (426, 30)\n",
      "per-feature min before scaling [6.981e+00 9.710e+00 4.379e+01 1.435e+02 5.263e-02 1.938e-02 0.000e+00\n",
      " 0.000e+00 1.060e-01 5.024e-02 1.153e-01 3.602e-01 7.570e-01 6.802e+00\n",
      " 1.713e-03 2.252e-03 0.000e+00 0.000e+00 9.539e-03 8.948e-04 7.930e+00\n",
      " 1.202e+01 5.041e+01 1.852e+02 7.117e-02 2.729e-02 0.000e+00 0.000e+00\n",
      " 1.566e-01 5.521e-02]\n",
      "per-feature max before scaling [2.811e+01 3.928e+01 1.885e+02 2.501e+03 1.634e-01 2.867e-01 4.268e-01\n",
      " 2.012e-01 3.040e-01 9.575e-02 2.873e+00 4.885e+00 2.198e+01 5.422e+02\n",
      " 3.113e-02 1.354e-01 3.960e-01 5.279e-02 6.146e-02 2.984e-02 3.604e+01\n",
      " 4.954e+01 2.512e+02 4.254e+03 2.226e-01 9.379e-01 1.170e+00 2.910e-01\n",
      " 5.774e-01 1.486e-01]\n",
      "per-feature min after scaling [0. 0. 0. 0. 0. 0. 0. 0. 0. 0. 0. 0. 0. 0. 0. 0. 0. 0. 0. 0. 0. 0. 0. 0.\n",
      " 0. 0. 0. 0. 0. 0.]\n",
      "per-feature max after scaling [1. 1. 1. 1. 1. 1. 1. 1. 1. 1. 1. 1. 1. 1. 1. 1. 1. 1. 1. 1. 1. 1. 1. 1.\n",
      " 1. 1. 1. 1. 1. 1.]\n"
     ]
    }
   ],
   "source": [
    "X_train_scaled = scaler.transform(X_train)\n",
    "print(\"Tranformed shape: \", format(X_train_scaled.shape))\n",
    "print(\"per-feature min before scaling\",format(X_train.min(axis=0)))\n",
    "print(\"per-feature max before scaling\",format(X_train.max(axis=0)))\n",
    "print(\"per-feature min after scaling\",format(X_train_scaled.min(axis=0)))\n",
    "print(\"per-feature max after scaling\",format(X_train_scaled.max(axis=0)))\n",
    "#The transformed data has the same shape as the original data the features are simply shifted and scaled. Now all the \n",
    "#features are scaled between 0 and 1 as desired."
   ]
  },
  {
   "cell_type": "code",
   "execution_count": 5,
   "id": "485090a9",
   "metadata": {},
   "outputs": [
    {
     "name": "stdout",
     "output_type": "stream",
     "text": [
      "Pre feature minimum after scaling:  [ 0.0336031   0.0226581   0.03144219  0.01141039  0.14128374  0.04406704\n",
      "  0.          0.          0.1540404  -0.00615249 -0.00137796  0.00594501\n",
      "  0.00430665  0.00079567  0.03919502  0.0112206   0.          0.\n",
      " -0.03191387  0.00664013  0.02660975  0.05810235  0.02031974  0.00943767\n",
      "  0.1094235   0.02637792  0.          0.         -0.00023764 -0.00182032]\n",
      "Pre feature maximum after scaling:  [0.9578778  0.81501522 0.95577362 0.89353128 0.81132075 1.21958701\n",
      " 0.87956888 0.9333996  0.93232323 1.0371347  0.42669616 0.49765736\n",
      " 0.44117231 0.28371044 0.48703131 0.73863671 0.76717172 0.62928585\n",
      " 1.33685792 0.39057253 0.89612238 0.79317697 0.84859804 0.74488793\n",
      " 0.9154725  1.13188961 1.07008547 0.92371134 1.20532319 1.63068851]\n"
     ]
    }
   ],
   "source": [
    "# The transformed data has the same shape as the original data the features are simply shifted\n",
    "# and scaled. now the features are between 0 and 1\n",
    "#to apply svm we have to again apply transformation on the test set\n",
    "X_test_scaled = scaler.transform(X_test)\n",
    "print(\"Pre feature minimum after scaling: \", format(X_test_scaled.min(axis=0)))\n",
    "print(\"Pre feature maximum after scaling: \", format(X_test_scaled.max(axis=0)))"
   ]
  },
  {
   "cell_type": "code",
   "execution_count": 6,
   "id": "023f522a",
   "metadata": {},
   "outputs": [],
   "source": [
    "# in the test set it seems that the minimum and maximum are not 0 and 1 but outside that.\n",
    "#Internally MinMaxScaler always applies exactly the same transformation to the test and train\n",
    "#set.\n",
    "#This means the tranform method always subtracts the training set minimum and divides but the \n",
    "#training set range, which might be different from the minimum and range for the test set."
   ]
  },
  {
   "cell_type": "code",
   "execution_count": null,
   "id": "8fa657e4",
   "metadata": {},
   "outputs": [],
   "source": []
  }
 ],
 "metadata": {
  "kernelspec": {
   "display_name": "Python 3",
   "language": "python",
   "name": "python3"
  },
  "language_info": {
   "codemirror_mode": {
    "name": "ipython",
    "version": 3
   },
   "file_extension": ".py",
   "mimetype": "text/x-python",
   "name": "python",
   "nbconvert_exporter": "python",
   "pygments_lexer": "ipython3",
   "version": "3.9.5"
  }
 },
 "nbformat": 4,
 "nbformat_minor": 5
}
